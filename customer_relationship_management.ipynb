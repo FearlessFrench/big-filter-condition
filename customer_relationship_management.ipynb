{
 "cells": [
  {
   "cell_type": "markdown",
   "id": "5cbbf384",
   "metadata": {},
   "source": [
    "**Monday May 5, 2025 at 10:45 AM**"
   ]
  },
  {
   "cell_type": "code",
   "execution_count": null,
   "id": "00cd3be7",
   "metadata": {},
   "outputs": [],
   "source": [
    "#!/usr/bin/env python3\n",
    "# Panutad Sirikul (French)\n",
    "# 650510714\n",
    "# customer_relationship_management\n",
    "# 229496 Sec DS"
   ]
  },
  {
   "cell_type": "markdown",
   "id": "6d1275e1",
   "metadata": {},
   "source": [
    "### **Task Condition**\n",
    "รบกวนขอดึงรายชื่อคุณแม่บ้าน เพื่อนำไปหาคุณแม่บ้านที่จะได้รับกระเป๋าฟรี เงื่อนไข คือ\n",
    "1.\tเป็นคุณแม่บ้านที่ Active ตั้งแต่วันที่ 1/01/2025 - 31/03/2025\n",
    "2.\tเป็นคุณแม่บ้านที่รับงาน >= 24 เดือน (2 ปี)\n",
    "3.\tในระยะเวลา 3 เดือนย้อนหลัง มีการรับงาน >= 80 ชม.\n",
    "4.\tมีรีวิว >= 4.8 ดาว\n",
    "5.\tปัญหาคุณภาพบริการ < 3 %\n",
    "6.\tปัญหาการคืนงาน < 3 %"
   ]
  },
  {
   "cell_type": "markdown",
   "id": "30b9d7eb",
   "metadata": {},
   "source": [
    "#### **Dataset**"
   ]
  },
  {
   "cell_type": "code",
   "execution_count": 1,
   "id": "049c3345",
   "metadata": {},
   "outputs": [],
   "source": [
    "import pandas as pd\n",
    "import numpy as np\n",
    "import plotly.express as px"
   ]
  },
  {
   "cell_type": "code",
   "execution_count": 18,
   "id": "bf46f3bf",
   "metadata": {},
   "outputs": [
    {
     "data": {
      "text/html": [
       "<div>\n",
       "<style scoped>\n",
       "    .dataframe tbody tr th:only-of-type {\n",
       "        vertical-align: middle;\n",
       "    }\n",
       "\n",
       "    .dataframe tbody tr th {\n",
       "        vertical-align: top;\n",
       "    }\n",
       "\n",
       "    .dataframe thead th {\n",
       "        text-align: right;\n",
       "    }\n",
       "</style>\n",
       "<table border=\"1\" class=\"dataframe\">\n",
       "  <thead>\n",
       "    <tr style=\"text-align: right;\">\n",
       "      <th></th>\n",
       "      <th>booking_id</th>\n",
       "      <th>professional_id</th>\n",
       "      <th>cleaning_date</th>\n",
       "      <th>total_hour</th>\n",
       "    </tr>\n",
       "  </thead>\n",
       "  <tbody>\n",
       "    <tr>\n",
       "      <th>1091449</th>\n",
       "      <td>2503311FRG</td>\n",
       "      <td>12498</td>\n",
       "      <td>2025-03-31 18:00:00</td>\n",
       "      <td>2.0</td>\n",
       "    </tr>\n",
       "    <tr>\n",
       "      <th>1091450</th>\n",
       "      <td>250331TMP0FDP</td>\n",
       "      <td>12086</td>\n",
       "      <td>2025-03-31 15:00:00</td>\n",
       "      <td>2.0</td>\n",
       "    </tr>\n",
       "    <tr>\n",
       "      <th>1091451</th>\n",
       "      <td>250331XWU9</td>\n",
       "      <td>11275</td>\n",
       "      <td>2025-03-31 15:00:00</td>\n",
       "      <td>4.0</td>\n",
       "    </tr>\n",
       "    <tr>\n",
       "      <th>1091452</th>\n",
       "      <td>250331TMPWPER</td>\n",
       "      <td>10019</td>\n",
       "      <td>2025-03-31 16:00:00</td>\n",
       "      <td>4.0</td>\n",
       "    </tr>\n",
       "    <tr>\n",
       "      <th>1091453</th>\n",
       "      <td>250331TMPJC83</td>\n",
       "      <td>9834</td>\n",
       "      <td>2025-03-31 18:00:00</td>\n",
       "      <td>2.0</td>\n",
       "    </tr>\n",
       "  </tbody>\n",
       "</table>\n",
       "</div>"
      ],
      "text/plain": [
       "            booking_id  professional_id        cleaning_date  total_hour\n",
       "1091449     2503311FRG            12498  2025-03-31 18:00:00         2.0\n",
       "1091450  250331TMP0FDP            12086  2025-03-31 15:00:00         2.0\n",
       "1091451     250331XWU9            11275  2025-03-31 15:00:00         4.0\n",
       "1091452  250331TMPWPER            10019  2025-03-31 16:00:00         4.0\n",
       "1091453  250331TMPJC83             9834  2025-03-31 18:00:00         2.0"
      ]
     },
     "execution_count": 18,
     "metadata": {},
     "output_type": "execute_result"
    }
   ],
   "source": [
    "order = pd.read_csv(\"order_raw.csv\", low_memory=False)\n",
    "order.tail()"
   ]
  },
  {
   "cell_type": "code",
   "execution_count": 19,
   "id": "e0f26ae1",
   "metadata": {},
   "outputs": [
    {
     "data": {
      "text/html": [
       "<div>\n",
       "<style scoped>\n",
       "    .dataframe tbody tr th:only-of-type {\n",
       "        vertical-align: middle;\n",
       "    }\n",
       "\n",
       "    .dataframe tbody tr th {\n",
       "        vertical-align: top;\n",
       "    }\n",
       "\n",
       "    .dataframe thead th {\n",
       "        text-align: right;\n",
       "    }\n",
       "</style>\n",
       "<table border=\"1\" class=\"dataframe\">\n",
       "  <thead>\n",
       "    <tr style=\"text-align: right;\">\n",
       "      <th></th>\n",
       "      <th>report_date</th>\n",
       "      <th>professional_id</th>\n",
       "      <th>report_problem_id</th>\n",
       "      <th>problem_name</th>\n",
       "    </tr>\n",
       "  </thead>\n",
       "  <tbody>\n",
       "    <tr>\n",
       "      <th>1089</th>\n",
       "      <td>2025-03-31 19:21:00</td>\n",
       "      <td>11690</td>\n",
       "      <td>34543</td>\n",
       "      <td>คืนงาน (ล่วงหน้า)</td>\n",
       "    </tr>\n",
       "    <tr>\n",
       "      <th>1090</th>\n",
       "      <td>2025-03-31 19:23:00</td>\n",
       "      <td>11003</td>\n",
       "      <td>34544</td>\n",
       "      <td>คืนงาน (ล่วงหน้า)</td>\n",
       "    </tr>\n",
       "    <tr>\n",
       "      <th>1091</th>\n",
       "      <td>2025-03-31 20:26:00</td>\n",
       "      <td>5186</td>\n",
       "      <td>34545</td>\n",
       "      <td>คืนงาน (โครงการป้อนงานคุณแม่บ้าน)</td>\n",
       "    </tr>\n",
       "    <tr>\n",
       "      <th>1092</th>\n",
       "      <td>2025-03-28 16:45:00</td>\n",
       "      <td>12103</td>\n",
       "      <td>34554</td>\n",
       "      <td>คืนงาน (กะทันหัน)</td>\n",
       "    </tr>\n",
       "    <tr>\n",
       "      <th>1093</th>\n",
       "      <td>2025-03-31 17:54:00</td>\n",
       "      <td>5444</td>\n",
       "      <td>34555</td>\n",
       "      <td>คืนงาน (กะทันหัน)</td>\n",
       "    </tr>\n",
       "  </tbody>\n",
       "</table>\n",
       "</div>"
      ],
      "text/plain": [
       "              report_date  professional_id  report_problem_id  \\\n",
       "1089  2025-03-31 19:21:00            11690              34543   \n",
       "1090  2025-03-31 19:23:00            11003              34544   \n",
       "1091  2025-03-31 20:26:00             5186              34545   \n",
       "1092  2025-03-28 16:45:00            12103              34554   \n",
       "1093  2025-03-31 17:54:00             5444              34555   \n",
       "\n",
       "                           problem_name  \n",
       "1089                  คืนงาน (ล่วงหน้า)  \n",
       "1090                  คืนงาน (ล่วงหน้า)  \n",
       "1091  คืนงาน (โครงการป้อนงานคุณแม่บ้าน)  \n",
       "1092                  คืนงาน (กะทันหัน)  \n",
       "1093                  คืนงาน (กะทันหัน)  "
      ]
     },
     "execution_count": 19,
     "metadata": {},
     "output_type": "execute_result"
    }
   ],
   "source": [
    "cancel = pd.read_csv(\"professional_cancel_raw.csv\")\n",
    "cancel.tail()"
   ]
  },
  {
   "cell_type": "code",
   "execution_count": 20,
   "id": "68cc5370",
   "metadata": {},
   "outputs": [
    {
     "data": {
      "text/html": [
       "<div>\n",
       "<style scoped>\n",
       "    .dataframe tbody tr th:only-of-type {\n",
       "        vertical-align: middle;\n",
       "    }\n",
       "\n",
       "    .dataframe tbody tr th {\n",
       "        vertical-align: top;\n",
       "    }\n",
       "\n",
       "    .dataframe thead th {\n",
       "        text-align: right;\n",
       "    }\n",
       "</style>\n",
       "<table border=\"1\" class=\"dataframe\">\n",
       "  <thead>\n",
       "    <tr style=\"text-align: right;\">\n",
       "      <th></th>\n",
       "      <th>report_date</th>\n",
       "      <th>professional_id</th>\n",
       "      <th>report_problem_id</th>\n",
       "      <th>problem_name</th>\n",
       "    </tr>\n",
       "  </thead>\n",
       "  <tbody>\n",
       "    <tr>\n",
       "      <th>897</th>\n",
       "      <td>2025-03-10 06:30:00</td>\n",
       "      <td>12187</td>\n",
       "      <td>33923</td>\n",
       "      <td>แอร์ไม่เย็น</td>\n",
       "    </tr>\n",
       "    <tr>\n",
       "      <th>898</th>\n",
       "      <td>2025-03-10 06:37:00</td>\n",
       "      <td>12187</td>\n",
       "      <td>33931</td>\n",
       "      <td>แอร์ไม่เย็น</td>\n",
       "    </tr>\n",
       "    <tr>\n",
       "      <th>899</th>\n",
       "      <td>2025-02-24 08:06:00</td>\n",
       "      <td>11997</td>\n",
       "      <td>33516</td>\n",
       "      <td>แอร์มีเสียงดัง</td>\n",
       "    </tr>\n",
       "    <tr>\n",
       "      <th>900</th>\n",
       "      <td>2025-02-26 11:02:00</td>\n",
       "      <td>11997</td>\n",
       "      <td>33569</td>\n",
       "      <td>แอร์มีเสียงดัง</td>\n",
       "    </tr>\n",
       "    <tr>\n",
       "      <th>901</th>\n",
       "      <td>2025-03-28 10:51:00</td>\n",
       "      <td>12153</td>\n",
       "      <td>34385</td>\n",
       "      <td>แอร์มีเสียงดัง</td>\n",
       "    </tr>\n",
       "  </tbody>\n",
       "</table>\n",
       "</div>"
      ],
      "text/plain": [
       "             report_date  professional_id  report_problem_id     problem_name\n",
       "897  2025-03-10 06:30:00            12187              33923     แอร์ไม่เย็น \n",
       "898  2025-03-10 06:37:00            12187              33931     แอร์ไม่เย็น \n",
       "899  2025-02-24 08:06:00            11997              33516  แอร์มีเสียงดัง \n",
       "900  2025-02-26 11:02:00            11997              33569  แอร์มีเสียงดัง \n",
       "901  2025-03-28 10:51:00            12153              34385  แอร์มีเสียงดัง "
      ]
     },
     "execution_count": 20,
     "metadata": {},
     "output_type": "execute_result"
    }
   ],
   "source": [
    "quality = pd.read_csv(\"professional_quality_problem_raw.csv\")\n",
    "quality.tail()"
   ]
  },
  {
   "cell_type": "code",
   "execution_count": 21,
   "id": "3cb07a40",
   "metadata": {},
   "outputs": [
    {
     "data": {
      "text/html": [
       "<div>\n",
       "<style scoped>\n",
       "    .dataframe tbody tr th:only-of-type {\n",
       "        vertical-align: middle;\n",
       "    }\n",
       "\n",
       "    .dataframe tbody tr th {\n",
       "        vertical-align: top;\n",
       "    }\n",
       "\n",
       "    .dataframe thead th {\n",
       "        text-align: right;\n",
       "    }\n",
       "</style>\n",
       "<table border=\"1\" class=\"dataframe\">\n",
       "  <thead>\n",
       "    <tr style=\"text-align: right;\">\n",
       "      <th></th>\n",
       "      <th>booking_id</th>\n",
       "      <th>professional_id</th>\n",
       "      <th>rating</th>\n",
       "      <th>review_date</th>\n",
       "    </tr>\n",
       "  </thead>\n",
       "  <tbody>\n",
       "    <tr>\n",
       "      <th>296684</th>\n",
       "      <td>2504298PD1</td>\n",
       "      <td>10953</td>\n",
       "      <td>5.0</td>\n",
       "      <td>2025-04-29 16:12:19</td>\n",
       "    </tr>\n",
       "    <tr>\n",
       "      <th>296685</th>\n",
       "      <td>2504273879</td>\n",
       "      <td>12617</td>\n",
       "      <td>4.0</td>\n",
       "      <td>2025-04-29 16:13:26</td>\n",
       "    </tr>\n",
       "    <tr>\n",
       "      <th>296686</th>\n",
       "      <td>250425CRYX</td>\n",
       "      <td>12071</td>\n",
       "      <td>5.0</td>\n",
       "      <td>2025-04-29 16:18:59</td>\n",
       "    </tr>\n",
       "    <tr>\n",
       "      <th>296687</th>\n",
       "      <td>250427ZXX8</td>\n",
       "      <td>1256</td>\n",
       "      <td>5.0</td>\n",
       "      <td>2025-04-29 16:23:47</td>\n",
       "    </tr>\n",
       "    <tr>\n",
       "      <th>296688</th>\n",
       "      <td>250427G242</td>\n",
       "      <td>12125</td>\n",
       "      <td>5.0</td>\n",
       "      <td>2025-04-29 16:24:59</td>\n",
       "    </tr>\n",
       "  </tbody>\n",
       "</table>\n",
       "</div>"
      ],
      "text/plain": [
       "        booking_id  professional_id  rating          review_date\n",
       "296684  2504298PD1            10953     5.0  2025-04-29 16:12:19\n",
       "296685  2504273879            12617     4.0  2025-04-29 16:13:26\n",
       "296686  250425CRYX            12071     5.0  2025-04-29 16:18:59\n",
       "296687  250427ZXX8             1256     5.0  2025-04-29 16:23:47\n",
       "296688  250427G242            12125     5.0  2025-04-29 16:24:59"
      ]
     },
     "execution_count": 21,
     "metadata": {},
     "output_type": "execute_result"
    }
   ],
   "source": [
    "rating = pd.read_csv(\"professional_rating_raw.csv\")\n",
    "rating.tail()"
   ]
  },
  {
   "cell_type": "markdown",
   "id": "98e7916e",
   "metadata": {},
   "source": [
    "#### **1. Active professional_id since January 1st, 2025 - March 31st, 2025**"
   ]
  },
  {
   "cell_type": "markdown",
   "id": "3065a730",
   "metadata": {},
   "source": [
    "##### Filter all dataset to have only the date as mentioned"
   ]
  },
  {
   "cell_type": "code",
   "execution_count": 22,
   "id": "4a7a5fc0",
   "metadata": {},
   "outputs": [],
   "source": [
    "# Create a active_date column\n",
    "order[[\"active_date\", \"time\"]] = order[\"cleaning_date\"].str.split(\" \", expand=True)\n",
    "cancel[[\"active_date\", \"time\"]] = cancel[\"report_date\"].str.split(\" \", expand=True)\n",
    "quality[[\"active_date\", \"time\"]] = quality[\"report_date\"].str.split(\" \", expand=True)\n",
    "rating[[\"active_date\", \"time\"]] = rating[\"review_date\"].str.split(\" \", expand=True)\n",
    "\n",
    "# Filter by active_date\n",
    "order_filter = order[(order[\"active_date\"] >= \"2025-01-01\") & (order[\"active_date\"] <= \"2025-03-31\")]\n",
    "cancel_filter = cancel[(cancel[\"active_date\"] >= \"2025-01-01\") & (cancel[\"active_date\"] <= \"2025-03-31\")]\n",
    "quality_filter = quality[(quality[\"active_date\"] >= \"2025-01-01\") & (quality[\"active_date\"] <= \"2025-03-31\")]\n",
    "rating_filter = rating[(rating[\"active_date\"] >= \"2025-01-01\") & (rating[\"active_date\"] <= \"2025-03-31\")]"
   ]
  },
  {
   "cell_type": "code",
   "execution_count": 32,
   "id": "c0de918e",
   "metadata": {},
   "outputs": [
    {
     "name": "stdout",
     "output_type": "stream",
     "text": [
      "order from '2025-01-01' to '2025-03-31'\n",
      "cancel from '2025-01-01' to '2025-03-31'\n",
      "quality from '2025-01-01' to '2025-03-31'\n",
      "rating from '2025-01-01' to '2025-03-31'\n"
     ]
    }
   ],
   "source": [
    "# Check filtration results\n",
    "print(f\"order from '{order_filter[\"active_date\"].min()}' to '{order_filter[\"active_date\"].max()}'\")\n",
    "print(f\"cancel from '{cancel_filter[\"active_date\"].min()}' to '{cancel_filter[\"active_date\"].max()}'\")\n",
    "print(f\"quality from '{quality_filter[\"active_date\"].min()}' to '{quality_filter[\"active_date\"].max()}'\")\n",
    "print(f\"rating from '{rating_filter[\"active_date\"].min()}' to '{rating_filter[\"active_date\"].max()}'\")"
   ]
  },
  {
   "cell_type": "markdown",
   "id": "b6b56bbc",
   "metadata": {},
   "source": [
    "##### **All active professional_id during this period**"
   ]
  },
  {
   "cell_type": "code",
   "execution_count": 40,
   "id": "1f532ea2",
   "metadata": {},
   "outputs": [
    {
     "data": {
      "text/html": [
       "<div>\n",
       "<style scoped>\n",
       "    .dataframe tbody tr th:only-of-type {\n",
       "        vertical-align: middle;\n",
       "    }\n",
       "\n",
       "    .dataframe tbody tr th {\n",
       "        vertical-align: top;\n",
       "    }\n",
       "\n",
       "    .dataframe thead th {\n",
       "        text-align: right;\n",
       "    }\n",
       "</style>\n",
       "<table border=\"1\" class=\"dataframe\">\n",
       "  <thead>\n",
       "    <tr style=\"text-align: right;\">\n",
       "      <th></th>\n",
       "      <th>professional_id</th>\n",
       "      <th>active_date</th>\n",
       "      <th>total_hour</th>\n",
       "    </tr>\n",
       "  </thead>\n",
       "  <tbody>\n",
       "    <tr>\n",
       "      <th>1022185</th>\n",
       "      <td>8412</td>\n",
       "      <td>2025-01-01</td>\n",
       "      <td>2.0</td>\n",
       "    </tr>\n",
       "    <tr>\n",
       "      <th>1017904</th>\n",
       "      <td>3351</td>\n",
       "      <td>2025-01-01</td>\n",
       "      <td>2.0</td>\n",
       "    </tr>\n",
       "    <tr>\n",
       "      <th>1003600</th>\n",
       "      <td>5344</td>\n",
       "      <td>2025-01-01</td>\n",
       "      <td>2.0</td>\n",
       "    </tr>\n",
       "    <tr>\n",
       "      <th>1022028</th>\n",
       "      <td>11017</td>\n",
       "      <td>2025-01-01</td>\n",
       "      <td>2.0</td>\n",
       "    </tr>\n",
       "    <tr>\n",
       "      <th>1021269</th>\n",
       "      <td>6810</td>\n",
       "      <td>2025-01-01</td>\n",
       "      <td>2.5</td>\n",
       "    </tr>\n",
       "    <tr>\n",
       "      <th>...</th>\n",
       "      <td>...</td>\n",
       "      <td>...</td>\n",
       "      <td>...</td>\n",
       "    </tr>\n",
       "    <tr>\n",
       "      <th>1066714</th>\n",
       "      <td>8358</td>\n",
       "      <td>2025-03-31</td>\n",
       "      <td>3.0</td>\n",
       "    </tr>\n",
       "    <tr>\n",
       "      <th>1085302</th>\n",
       "      <td>11894</td>\n",
       "      <td>2025-03-31</td>\n",
       "      <td>2.0</td>\n",
       "    </tr>\n",
       "    <tr>\n",
       "      <th>1022957</th>\n",
       "      <td>10101</td>\n",
       "      <td>2025-03-31</td>\n",
       "      <td>2.0</td>\n",
       "    </tr>\n",
       "    <tr>\n",
       "      <th>1066521</th>\n",
       "      <td>5696</td>\n",
       "      <td>2025-03-31</td>\n",
       "      <td>4.0</td>\n",
       "    </tr>\n",
       "    <tr>\n",
       "      <th>1091453</th>\n",
       "      <td>9834</td>\n",
       "      <td>2025-03-31</td>\n",
       "      <td>2.0</td>\n",
       "    </tr>\n",
       "  </tbody>\n",
       "</table>\n",
       "<p>80486 rows × 3 columns</p>\n",
       "</div>"
      ],
      "text/plain": [
       "         professional_id active_date  total_hour\n",
       "1022185             8412  2025-01-01         2.0\n",
       "1017904             3351  2025-01-01         2.0\n",
       "1003600             5344  2025-01-01         2.0\n",
       "1022028            11017  2025-01-01         2.0\n",
       "1021269             6810  2025-01-01         2.5\n",
       "...                  ...         ...         ...\n",
       "1066714             8358  2025-03-31         3.0\n",
       "1085302            11894  2025-03-31         2.0\n",
       "1022957            10101  2025-03-31         2.0\n",
       "1066521             5696  2025-03-31         4.0\n",
       "1091453             9834  2025-03-31         2.0\n",
       "\n",
       "[80486 rows x 3 columns]"
      ]
     },
     "execution_count": 40,
     "metadata": {},
     "output_type": "execute_result"
    }
   ],
   "source": [
    "order_filter[[\"professional_id\", \"active_date\", \"total_hour\"]].sort_values(by=\"active_date\")"
   ]
  },
  {
   "cell_type": "markdown",
   "id": "9453e8ab",
   "metadata": {},
   "source": [
    "We'll deal with duplicate professional_id later..."
   ]
  },
  {
   "cell_type": "code",
   "execution_count": 45,
   "id": "cf3e1397",
   "metadata": {},
   "outputs": [
    {
     "data": {
      "text/plain": [
       "professional_id\n",
       "11562    239\n",
       "732      231\n",
       "250      219\n",
       "11665    217\n",
       "11528    212\n",
       "        ... \n",
       "3341       1\n",
       "12208      1\n",
       "10788      1\n",
       "11043      1\n",
       "7748       1\n",
       "Name: count, Length: 2294, dtype: int64"
      ]
     },
     "execution_count": 45,
     "metadata": {},
     "output_type": "execute_result"
    }
   ],
   "source": [
    "order_filter[\"professional_id\"].value_counts()"
   ]
  },
  {
   "cell_type": "markdown",
   "id": "2ebd2180",
   "metadata": {},
   "source": [
    "#### **2. Work Accept professional_id ≥ 24 Months (2 Years)**"
   ]
  },
  {
   "cell_type": "markdown",
   "id": "9435a216",
   "metadata": {},
   "source": [
    "##### Find professional_ids that have been active for at least 24 distinct months before 2025-01-01"
   ]
  },
  {
   "cell_type": "code",
   "execution_count": 46,
   "id": "7df3fe87",
   "metadata": {},
   "outputs": [
    {
     "name": "stdout",
     "output_type": "stream",
     "text": [
      "order from '2016-03-26' to '2025-03-31'\n"
     ]
    }
   ],
   "source": [
    "print(f\"order from '{order[\"active_date\"].min()}' to '{order[\"active_date\"].max()}'\")"
   ]
  },
  {
   "cell_type": "code",
   "execution_count": 47,
   "id": "b4d6c57c",
   "metadata": {},
   "outputs": [
    {
     "name": "stdout",
     "output_type": "stream",
     "text": [
      "<class 'pandas.core.frame.DataFrame'>\n",
      "RangeIndex: 1091454 entries, 0 to 1091453\n",
      "Data columns (total 6 columns):\n",
      " #   Column           Non-Null Count    Dtype  \n",
      "---  ------           --------------    -----  \n",
      " 0   booking_id       1091454 non-null  object \n",
      " 1   professional_id  1091454 non-null  int64  \n",
      " 2   cleaning_date    1091454 non-null  object \n",
      " 3   total_hour       1091454 non-null  float64\n",
      " 4   active_date      1091454 non-null  object \n",
      " 5   time             1091454 non-null  object \n",
      "dtypes: float64(1), int64(1), object(4)\n",
      "memory usage: 50.0+ MB\n"
     ]
    }
   ],
   "source": [
    "order.info()"
   ]
  },
  {
   "cell_type": "code",
   "execution_count": 49,
   "id": "d8c0e2f9",
   "metadata": {},
   "outputs": [
    {
     "data": {
      "text/html": [
       "<div>\n",
       "<style scoped>\n",
       "    .dataframe tbody tr th:only-of-type {\n",
       "        vertical-align: middle;\n",
       "    }\n",
       "\n",
       "    .dataframe tbody tr th {\n",
       "        vertical-align: top;\n",
       "    }\n",
       "\n",
       "    .dataframe thead th {\n",
       "        text-align: right;\n",
       "    }\n",
       "</style>\n",
       "<table border=\"1\" class=\"dataframe\">\n",
       "  <thead>\n",
       "    <tr style=\"text-align: right;\">\n",
       "      <th></th>\n",
       "      <th>professional_id</th>\n",
       "      <th>month_count</th>\n",
       "    </tr>\n",
       "  </thead>\n",
       "  <tbody>\n",
       "    <tr>\n",
       "      <th>0</th>\n",
       "      <td>5</td>\n",
       "      <td>12</td>\n",
       "    </tr>\n",
       "    <tr>\n",
       "      <th>1</th>\n",
       "      <td>6</td>\n",
       "      <td>2</td>\n",
       "    </tr>\n",
       "    <tr>\n",
       "      <th>2</th>\n",
       "      <td>7</td>\n",
       "      <td>11</td>\n",
       "    </tr>\n",
       "    <tr>\n",
       "      <th>3</th>\n",
       "      <td>8</td>\n",
       "      <td>2</td>\n",
       "    </tr>\n",
       "    <tr>\n",
       "      <th>4</th>\n",
       "      <td>9</td>\n",
       "      <td>21</td>\n",
       "    </tr>\n",
       "  </tbody>\n",
       "</table>\n",
       "</div>"
      ],
      "text/plain": [
       "   professional_id  month_count\n",
       "0                5           12\n",
       "1                6            2\n",
       "2                7           11\n",
       "3                8            2\n",
       "4                9           21"
      ]
     },
     "execution_count": 49,
     "metadata": {},
     "output_type": "execute_result"
    }
   ],
   "source": [
    "# Make sure the active_date has a dtype of datetime\n",
    "order[\"active_date\"] = pd.to_datetime(order[\"active_date\"])\n",
    "\n",
    "# Filter only dates before 2025-01-01\n",
    "cutoff_date = pd.Timestamp(\"2025-01-01\")\n",
    "filtered = order[order[\"active_date\"] < cutoff_date].copy()\n",
    "\n",
    "# Extract year and month as a single period (e.g., 2016-03)\n",
    "filtered[\"year_month\"] = filtered[\"active_date\"].dt.to_period(\"M\")\n",
    "\n",
    "# Count distinct months per professional\n",
    "monthly_counts = (filtered.groupby(\"professional_id\")[\"year_month\"].nunique().reset_index(name=\"month_count\"))\n",
    "monthly_counts.head()"
   ]
  },
  {
   "cell_type": "code",
   "execution_count": 51,
   "id": "238085c1",
   "metadata": {},
   "outputs": [
    {
     "data": {
      "text/html": [
       "<div>\n",
       "<style scoped>\n",
       "    .dataframe tbody tr th:only-of-type {\n",
       "        vertical-align: middle;\n",
       "    }\n",
       "\n",
       "    .dataframe tbody tr th {\n",
       "        vertical-align: top;\n",
       "    }\n",
       "\n",
       "    .dataframe thead th {\n",
       "        text-align: right;\n",
       "    }\n",
       "</style>\n",
       "<table border=\"1\" class=\"dataframe\">\n",
       "  <thead>\n",
       "    <tr style=\"text-align: right;\">\n",
       "      <th></th>\n",
       "      <th>professional_id</th>\n",
       "      <th>month_count</th>\n",
       "    </tr>\n",
       "  </thead>\n",
       "  <tbody>\n",
       "    <tr>\n",
       "      <th>10</th>\n",
       "      <td>19</td>\n",
       "      <td>102</td>\n",
       "    </tr>\n",
       "    <tr>\n",
       "      <th>12</th>\n",
       "      <td>21</td>\n",
       "      <td>103</td>\n",
       "    </tr>\n",
       "    <tr>\n",
       "      <th>15</th>\n",
       "      <td>24</td>\n",
       "      <td>102</td>\n",
       "    </tr>\n",
       "    <tr>\n",
       "      <th>17</th>\n",
       "      <td>26</td>\n",
       "      <td>45</td>\n",
       "    </tr>\n",
       "    <tr>\n",
       "      <th>18</th>\n",
       "      <td>28</td>\n",
       "      <td>100</td>\n",
       "    </tr>\n",
       "    <tr>\n",
       "      <th>...</th>\n",
       "      <td>...</td>\n",
       "      <td>...</td>\n",
       "    </tr>\n",
       "    <tr>\n",
       "      <th>4119</th>\n",
       "      <td>7758</td>\n",
       "      <td>24</td>\n",
       "    </tr>\n",
       "    <tr>\n",
       "      <th>4123</th>\n",
       "      <td>7773</td>\n",
       "      <td>24</td>\n",
       "    </tr>\n",
       "    <tr>\n",
       "      <th>4124</th>\n",
       "      <td>7774</td>\n",
       "      <td>24</td>\n",
       "    </tr>\n",
       "    <tr>\n",
       "      <th>4128</th>\n",
       "      <td>7781</td>\n",
       "      <td>24</td>\n",
       "    </tr>\n",
       "    <tr>\n",
       "      <th>4131</th>\n",
       "      <td>7788</td>\n",
       "      <td>24</td>\n",
       "    </tr>\n",
       "  </tbody>\n",
       "</table>\n",
       "<p>853 rows × 2 columns</p>\n",
       "</div>"
      ],
      "text/plain": [
       "      professional_id  month_count\n",
       "10                 19          102\n",
       "12                 21          103\n",
       "15                 24          102\n",
       "17                 26           45\n",
       "18                 28          100\n",
       "...               ...          ...\n",
       "4119             7758           24\n",
       "4123             7773           24\n",
       "4124             7774           24\n",
       "4128             7781           24\n",
       "4131             7788           24\n",
       "\n",
       "[853 rows x 2 columns]"
      ]
     },
     "execution_count": 51,
     "metadata": {},
     "output_type": "execute_result"
    }
   ],
   "source": [
    "# Filter professionals active in at least 24 months\n",
    "result = monthly_counts[monthly_counts[\"month_count\"] >= 24]\n",
    "result"
   ]
  },
  {
   "cell_type": "markdown",
   "id": "ff6ce6f7",
   "metadata": {},
   "source": [
    "#### **3. Total Hours ≥ 80 Hours (2025-01-01 to 2025-03-31)**"
   ]
  },
  {
   "cell_type": "code",
   "execution_count": 63,
   "id": "54c75ade",
   "metadata": {},
   "outputs": [
    {
     "data": {
      "text/plain": [
       "np.float64(96.5)"
      ]
     },
     "execution_count": 63,
     "metadata": {},
     "output_type": "execute_result"
    }
   ],
   "source": [
    "temp = order_filter[order_filter[\"professional_id\"] == 155]\n",
    "temp[\"total_hour\"].sum()"
   ]
  },
  {
   "cell_type": "code",
   "execution_count": 58,
   "id": "7ef8337f",
   "metadata": {},
   "outputs": [
    {
     "data": {
      "text/html": [
       "<div>\n",
       "<style scoped>\n",
       "    .dataframe tbody tr th:only-of-type {\n",
       "        vertical-align: middle;\n",
       "    }\n",
       "\n",
       "    .dataframe tbody tr th {\n",
       "        vertical-align: top;\n",
       "    }\n",
       "\n",
       "    .dataframe thead th {\n",
       "        text-align: right;\n",
       "    }\n",
       "</style>\n",
       "<table border=\"1\" class=\"dataframe\">\n",
       "  <thead>\n",
       "    <tr style=\"text-align: right;\">\n",
       "      <th></th>\n",
       "      <th>booking_id</th>\n",
       "      <th>professional_id</th>\n",
       "      <th>cleaning_date</th>\n",
       "      <th>total_hour</th>\n",
       "      <th>active_date</th>\n",
       "      <th>time</th>\n",
       "    </tr>\n",
       "  </thead>\n",
       "  <tbody>\n",
       "    <tr>\n",
       "      <th>45830</th>\n",
       "      <td>62349</td>\n",
       "      <td>10890</td>\n",
       "      <td>2025-03-03 17:00:00</td>\n",
       "      <td>2.0</td>\n",
       "      <td>2025-03-03</td>\n",
       "      <td>17:00:00</td>\n",
       "    </tr>\n",
       "    <tr>\n",
       "      <th>65533</th>\n",
       "      <td>84447</td>\n",
       "      <td>8409</td>\n",
       "      <td>2025-01-19 09:00:00</td>\n",
       "      <td>6.0</td>\n",
       "      <td>2025-01-19</td>\n",
       "      <td>09:00:00</td>\n",
       "    </tr>\n",
       "    <tr>\n",
       "      <th>98458</th>\n",
       "      <td>121641</td>\n",
       "      <td>7935</td>\n",
       "      <td>2025-03-23 14:00:00</td>\n",
       "      <td>3.0</td>\n",
       "      <td>2025-03-23</td>\n",
       "      <td>14:00:00</td>\n",
       "    </tr>\n",
       "    <tr>\n",
       "      <th>140820</th>\n",
       "      <td>169608</td>\n",
       "      <td>12180</td>\n",
       "      <td>2025-03-29 10:00:00</td>\n",
       "      <td>6.0</td>\n",
       "      <td>2025-03-29</td>\n",
       "      <td>10:00:00</td>\n",
       "    </tr>\n",
       "    <tr>\n",
       "      <th>148111</th>\n",
       "      <td>177682</td>\n",
       "      <td>11313</td>\n",
       "      <td>2025-02-10 10:30:00</td>\n",
       "      <td>2.0</td>\n",
       "      <td>2025-02-10</td>\n",
       "      <td>10:30:00</td>\n",
       "    </tr>\n",
       "    <tr>\n",
       "      <th>...</th>\n",
       "      <td>...</td>\n",
       "      <td>...</td>\n",
       "      <td>...</td>\n",
       "      <td>...</td>\n",
       "      <td>...</td>\n",
       "      <td>...</td>\n",
       "    </tr>\n",
       "    <tr>\n",
       "      <th>1091447</th>\n",
       "      <td>250331TMPFRKU</td>\n",
       "      <td>10490</td>\n",
       "      <td>2025-03-31 13:30:00</td>\n",
       "      <td>3.0</td>\n",
       "      <td>2025-03-31</td>\n",
       "      <td>13:30:00</td>\n",
       "    </tr>\n",
       "    <tr>\n",
       "      <th>1091448</th>\n",
       "      <td>250331TMP6W77</td>\n",
       "      <td>11766</td>\n",
       "      <td>2025-03-31 14:00:00</td>\n",
       "      <td>2.0</td>\n",
       "      <td>2025-03-31</td>\n",
       "      <td>14:00:00</td>\n",
       "    </tr>\n",
       "    <tr>\n",
       "      <th>1091450</th>\n",
       "      <td>250331TMP0FDP</td>\n",
       "      <td>12086</td>\n",
       "      <td>2025-03-31 15:00:00</td>\n",
       "      <td>2.0</td>\n",
       "      <td>2025-03-31</td>\n",
       "      <td>15:00:00</td>\n",
       "    </tr>\n",
       "    <tr>\n",
       "      <th>1091451</th>\n",
       "      <td>250331XWU9</td>\n",
       "      <td>11275</td>\n",
       "      <td>2025-03-31 15:00:00</td>\n",
       "      <td>4.0</td>\n",
       "      <td>2025-03-31</td>\n",
       "      <td>15:00:00</td>\n",
       "    </tr>\n",
       "    <tr>\n",
       "      <th>1091453</th>\n",
       "      <td>250331TMPJC83</td>\n",
       "      <td>9834</td>\n",
       "      <td>2025-03-31 18:00:00</td>\n",
       "      <td>2.0</td>\n",
       "      <td>2025-03-31</td>\n",
       "      <td>18:00:00</td>\n",
       "    </tr>\n",
       "  </tbody>\n",
       "</table>\n",
       "<p>68724 rows × 6 columns</p>\n",
       "</div>"
      ],
      "text/plain": [
       "            booking_id  professional_id        cleaning_date  total_hour  \\\n",
       "45830            62349            10890  2025-03-03 17:00:00         2.0   \n",
       "65533            84447             8409  2025-01-19 09:00:00         6.0   \n",
       "98458           121641             7935  2025-03-23 14:00:00         3.0   \n",
       "140820          169608            12180  2025-03-29 10:00:00         6.0   \n",
       "148111          177682            11313  2025-02-10 10:30:00         2.0   \n",
       "...                ...              ...                  ...         ...   \n",
       "1091447  250331TMPFRKU            10490  2025-03-31 13:30:00         3.0   \n",
       "1091448  250331TMP6W77            11766  2025-03-31 14:00:00         2.0   \n",
       "1091450  250331TMP0FDP            12086  2025-03-31 15:00:00         2.0   \n",
       "1091451     250331XWU9            11275  2025-03-31 15:00:00         4.0   \n",
       "1091453  250331TMPJC83             9834  2025-03-31 18:00:00         2.0   \n",
       "\n",
       "        active_date      time  \n",
       "45830    2025-03-03  17:00:00  \n",
       "65533    2025-01-19  09:00:00  \n",
       "98458    2025-03-23  14:00:00  \n",
       "140820   2025-03-29  10:00:00  \n",
       "148111   2025-02-10  10:30:00  \n",
       "...             ...       ...  \n",
       "1091447  2025-03-31  13:30:00  \n",
       "1091448  2025-03-31  14:00:00  \n",
       "1091450  2025-03-31  15:00:00  \n",
       "1091451  2025-03-31  15:00:00  \n",
       "1091453  2025-03-31  18:00:00  \n",
       "\n",
       "[68724 rows x 6 columns]"
      ]
     },
     "execution_count": 58,
     "metadata": {},
     "output_type": "execute_result"
    }
   ],
   "source": [
    "# Group and filter professional_id by total_hour ≥ 80\n",
    "high_hour_ids = (\n",
    "    order_filter.groupby(\"professional_id\")[\"total_hour\"]\n",
    "    .sum()\n",
    "    .reset_index()\n",
    "    .query(\"total_hour >= 80\")[\"professional_id\"]\n",
    ")\n",
    "# Filter order_filter to only those professional_ids\n",
    "order_filter_high_hour = order_filter[order_filter[\"professional_id\"].isin(high_hour_ids)]\n",
    "order_filter_high_hour"
   ]
  },
  {
   "cell_type": "markdown",
   "id": "0e2cc406",
   "metadata": {},
   "source": [
    "#### 4. Have a Review score of ≥ 4.8 ⭐⭐⭐⭐"
   ]
  },
  {
   "cell_type": "code",
   "execution_count": 80,
   "id": "eba66196",
   "metadata": {},
   "outputs": [
    {
     "data": {
      "text/html": [
       "<div>\n",
       "<style scoped>\n",
       "    .dataframe tbody tr th:only-of-type {\n",
       "        vertical-align: middle;\n",
       "    }\n",
       "\n",
       "    .dataframe tbody tr th {\n",
       "        vertical-align: top;\n",
       "    }\n",
       "\n",
       "    .dataframe thead th {\n",
       "        text-align: right;\n",
       "    }\n",
       "</style>\n",
       "<table border=\"1\" class=\"dataframe\">\n",
       "  <thead>\n",
       "    <tr style=\"text-align: right;\">\n",
       "      <th></th>\n",
       "      <th>booking_id</th>\n",
       "      <th>professional_id</th>\n",
       "      <th>rating</th>\n",
       "      <th>review_date</th>\n",
       "      <th>active_date</th>\n",
       "      <th>time</th>\n",
       "    </tr>\n",
       "  </thead>\n",
       "  <tbody>\n",
       "    <tr>\n",
       "      <th>273848</th>\n",
       "      <td>2412294F7S</td>\n",
       "      <td>5859</td>\n",
       "      <td>5.0</td>\n",
       "      <td>2025-01-01 01:15:17</td>\n",
       "      <td>2025-01-01</td>\n",
       "      <td>01:15:17</td>\n",
       "    </tr>\n",
       "    <tr>\n",
       "      <th>273850</th>\n",
       "      <td>241230GWV4</td>\n",
       "      <td>9503</td>\n",
       "      <td>5.0</td>\n",
       "      <td>2025-01-01 02:18:09</td>\n",
       "      <td>2025-01-01</td>\n",
       "      <td>02:18:09</td>\n",
       "    </tr>\n",
       "    <tr>\n",
       "      <th>273852</th>\n",
       "      <td>2405157J5L</td>\n",
       "      <td>5341</td>\n",
       "      <td>5.0</td>\n",
       "      <td>2025-01-01 06:17:13</td>\n",
       "      <td>2025-01-01</td>\n",
       "      <td>06:17:13</td>\n",
       "    </tr>\n",
       "    <tr>\n",
       "      <th>273853</th>\n",
       "      <td>2412288UMP</td>\n",
       "      <td>8581</td>\n",
       "      <td>5.0</td>\n",
       "      <td>2025-01-01 08:23:33</td>\n",
       "      <td>2025-01-01</td>\n",
       "      <td>08:23:33</td>\n",
       "    </tr>\n",
       "    <tr>\n",
       "      <th>273854</th>\n",
       "      <td>241202YSWA</td>\n",
       "      <td>6610</td>\n",
       "      <td>5.0</td>\n",
       "      <td>2025-01-01 08:53:58</td>\n",
       "      <td>2025-01-01</td>\n",
       "      <td>08:53:58</td>\n",
       "    </tr>\n",
       "    <tr>\n",
       "      <th>...</th>\n",
       "      <td>...</td>\n",
       "      <td>...</td>\n",
       "      <td>...</td>\n",
       "      <td>...</td>\n",
       "      <td>...</td>\n",
       "      <td>...</td>\n",
       "    </tr>\n",
       "    <tr>\n",
       "      <th>291341</th>\n",
       "      <td>250310YMLY</td>\n",
       "      <td>5788</td>\n",
       "      <td>5.0</td>\n",
       "      <td>2025-03-31 22:49:05</td>\n",
       "      <td>2025-03-31</td>\n",
       "      <td>22:49:05</td>\n",
       "    </tr>\n",
       "    <tr>\n",
       "      <th>291342</th>\n",
       "      <td>241122TMP9MFC</td>\n",
       "      <td>10305</td>\n",
       "      <td>5.0</td>\n",
       "      <td>2025-03-31 22:50:47</td>\n",
       "      <td>2025-03-31</td>\n",
       "      <td>22:50:47</td>\n",
       "    </tr>\n",
       "    <tr>\n",
       "      <th>291343</th>\n",
       "      <td>250331UAZ9</td>\n",
       "      <td>11411</td>\n",
       "      <td>2.0</td>\n",
       "      <td>2025-03-31 22:56:29</td>\n",
       "      <td>2025-03-31</td>\n",
       "      <td>22:56:29</td>\n",
       "    </tr>\n",
       "    <tr>\n",
       "      <th>291344</th>\n",
       "      <td>250330VXTK</td>\n",
       "      <td>9191</td>\n",
       "      <td>5.0</td>\n",
       "      <td>2025-03-31 22:56:46</td>\n",
       "      <td>2025-03-31</td>\n",
       "      <td>22:56:46</td>\n",
       "    </tr>\n",
       "    <tr>\n",
       "      <th>291346</th>\n",
       "      <td>250324QCLU</td>\n",
       "      <td>10216</td>\n",
       "      <td>5.0</td>\n",
       "      <td>2025-03-31 23:15:50</td>\n",
       "      <td>2025-03-31</td>\n",
       "      <td>23:15:50</td>\n",
       "    </tr>\n",
       "  </tbody>\n",
       "</table>\n",
       "<p>14696 rows × 6 columns</p>\n",
       "</div>"
      ],
      "text/plain": [
       "           booking_id  professional_id  rating          review_date  \\\n",
       "273848     2412294F7S             5859     5.0  2025-01-01 01:15:17   \n",
       "273850     241230GWV4             9503     5.0  2025-01-01 02:18:09   \n",
       "273852     2405157J5L             5341     5.0  2025-01-01 06:17:13   \n",
       "273853     2412288UMP             8581     5.0  2025-01-01 08:23:33   \n",
       "273854     241202YSWA             6610     5.0  2025-01-01 08:53:58   \n",
       "...               ...              ...     ...                  ...   \n",
       "291341     250310YMLY             5788     5.0  2025-03-31 22:49:05   \n",
       "291342  241122TMP9MFC            10305     5.0  2025-03-31 22:50:47   \n",
       "291343     250331UAZ9            11411     2.0  2025-03-31 22:56:29   \n",
       "291344     250330VXTK             9191     5.0  2025-03-31 22:56:46   \n",
       "291346     250324QCLU            10216     5.0  2025-03-31 23:15:50   \n",
       "\n",
       "       active_date      time  \n",
       "273848  2025-01-01  01:15:17  \n",
       "273850  2025-01-01  02:18:09  \n",
       "273852  2025-01-01  06:17:13  \n",
       "273853  2025-01-01  08:23:33  \n",
       "273854  2025-01-01  08:53:58  \n",
       "...            ...       ...  \n",
       "291341  2025-03-31  22:49:05  \n",
       "291342  2025-03-31  22:50:47  \n",
       "291343  2025-03-31  22:56:29  \n",
       "291344  2025-03-31  22:56:46  \n",
       "291346  2025-03-31  23:15:50  \n",
       "\n",
       "[14696 rows x 6 columns]"
      ]
     },
     "execution_count": 80,
     "metadata": {},
     "output_type": "execute_result"
    }
   ],
   "source": [
    "review_filter = rating_filter[rating_filter[\"professional_id\"].isin(order_filter_high_hour[\"professional_id\"])]\n",
    "review_filter"
   ]
  },
  {
   "cell_type": "code",
   "execution_count": 81,
   "id": "1a6d558c",
   "metadata": {},
   "outputs": [
    {
     "data": {
      "text/html": [
       "<div>\n",
       "<style scoped>\n",
       "    .dataframe tbody tr th:only-of-type {\n",
       "        vertical-align: middle;\n",
       "    }\n",
       "\n",
       "    .dataframe tbody tr th {\n",
       "        vertical-align: top;\n",
       "    }\n",
       "\n",
       "    .dataframe thead th {\n",
       "        text-align: right;\n",
       "    }\n",
       "</style>\n",
       "<table border=\"1\" class=\"dataframe\">\n",
       "  <thead>\n",
       "    <tr style=\"text-align: right;\">\n",
       "      <th></th>\n",
       "      <th>booking_id</th>\n",
       "      <th>professional_id</th>\n",
       "      <th>rating</th>\n",
       "      <th>review_date</th>\n",
       "      <th>active_date</th>\n",
       "      <th>time</th>\n",
       "    </tr>\n",
       "  </thead>\n",
       "  <tbody>\n",
       "    <tr>\n",
       "      <th>273848</th>\n",
       "      <td>2412294F7S</td>\n",
       "      <td>5859</td>\n",
       "      <td>5.0</td>\n",
       "      <td>2025-01-01 01:15:17</td>\n",
       "      <td>2025-01-01</td>\n",
       "      <td>01:15:17</td>\n",
       "    </tr>\n",
       "    <tr>\n",
       "      <th>273850</th>\n",
       "      <td>241230GWV4</td>\n",
       "      <td>9503</td>\n",
       "      <td>5.0</td>\n",
       "      <td>2025-01-01 02:18:09</td>\n",
       "      <td>2025-01-01</td>\n",
       "      <td>02:18:09</td>\n",
       "    </tr>\n",
       "    <tr>\n",
       "      <th>273852</th>\n",
       "      <td>2405157J5L</td>\n",
       "      <td>5341</td>\n",
       "      <td>5.0</td>\n",
       "      <td>2025-01-01 06:17:13</td>\n",
       "      <td>2025-01-01</td>\n",
       "      <td>06:17:13</td>\n",
       "    </tr>\n",
       "    <tr>\n",
       "      <th>273853</th>\n",
       "      <td>2412288UMP</td>\n",
       "      <td>8581</td>\n",
       "      <td>5.0</td>\n",
       "      <td>2025-01-01 08:23:33</td>\n",
       "      <td>2025-01-01</td>\n",
       "      <td>08:23:33</td>\n",
       "    </tr>\n",
       "    <tr>\n",
       "      <th>273854</th>\n",
       "      <td>241202YSWA</td>\n",
       "      <td>6610</td>\n",
       "      <td>5.0</td>\n",
       "      <td>2025-01-01 08:53:58</td>\n",
       "      <td>2025-01-01</td>\n",
       "      <td>08:53:58</td>\n",
       "    </tr>\n",
       "    <tr>\n",
       "      <th>...</th>\n",
       "      <td>...</td>\n",
       "      <td>...</td>\n",
       "      <td>...</td>\n",
       "      <td>...</td>\n",
       "      <td>...</td>\n",
       "      <td>...</td>\n",
       "    </tr>\n",
       "    <tr>\n",
       "      <th>291340</th>\n",
       "      <td>2502276PNN</td>\n",
       "      <td>10111</td>\n",
       "      <td>5.0</td>\n",
       "      <td>2025-03-31 22:48:43</td>\n",
       "      <td>2025-03-31</td>\n",
       "      <td>22:48:43</td>\n",
       "    </tr>\n",
       "    <tr>\n",
       "      <th>291341</th>\n",
       "      <td>250310YMLY</td>\n",
       "      <td>5788</td>\n",
       "      <td>5.0</td>\n",
       "      <td>2025-03-31 22:49:05</td>\n",
       "      <td>2025-03-31</td>\n",
       "      <td>22:49:05</td>\n",
       "    </tr>\n",
       "    <tr>\n",
       "      <th>291342</th>\n",
       "      <td>241122TMP9MFC</td>\n",
       "      <td>10305</td>\n",
       "      <td>5.0</td>\n",
       "      <td>2025-03-31 22:50:47</td>\n",
       "      <td>2025-03-31</td>\n",
       "      <td>22:50:47</td>\n",
       "    </tr>\n",
       "    <tr>\n",
       "      <th>291344</th>\n",
       "      <td>250330VXTK</td>\n",
       "      <td>9191</td>\n",
       "      <td>5.0</td>\n",
       "      <td>2025-03-31 22:56:46</td>\n",
       "      <td>2025-03-31</td>\n",
       "      <td>22:56:46</td>\n",
       "    </tr>\n",
       "    <tr>\n",
       "      <th>291346</th>\n",
       "      <td>250324QCLU</td>\n",
       "      <td>10216</td>\n",
       "      <td>5.0</td>\n",
       "      <td>2025-03-31 23:15:50</td>\n",
       "      <td>2025-03-31</td>\n",
       "      <td>23:15:50</td>\n",
       "    </tr>\n",
       "  </tbody>\n",
       "</table>\n",
       "<p>13987 rows × 6 columns</p>\n",
       "</div>"
      ],
      "text/plain": [
       "           booking_id  professional_id  rating          review_date  \\\n",
       "273848     2412294F7S             5859     5.0  2025-01-01 01:15:17   \n",
       "273850     241230GWV4             9503     5.0  2025-01-01 02:18:09   \n",
       "273852     2405157J5L             5341     5.0  2025-01-01 06:17:13   \n",
       "273853     2412288UMP             8581     5.0  2025-01-01 08:23:33   \n",
       "273854     241202YSWA             6610     5.0  2025-01-01 08:53:58   \n",
       "...               ...              ...     ...                  ...   \n",
       "291340     2502276PNN            10111     5.0  2025-03-31 22:48:43   \n",
       "291341     250310YMLY             5788     5.0  2025-03-31 22:49:05   \n",
       "291342  241122TMP9MFC            10305     5.0  2025-03-31 22:50:47   \n",
       "291344     250330VXTK             9191     5.0  2025-03-31 22:56:46   \n",
       "291346     250324QCLU            10216     5.0  2025-03-31 23:15:50   \n",
       "\n",
       "       active_date      time  \n",
       "273848  2025-01-01  01:15:17  \n",
       "273850  2025-01-01  02:18:09  \n",
       "273852  2025-01-01  06:17:13  \n",
       "273853  2025-01-01  08:23:33  \n",
       "273854  2025-01-01  08:53:58  \n",
       "...            ...       ...  \n",
       "291340  2025-03-31  22:48:43  \n",
       "291341  2025-03-31  22:49:05  \n",
       "291342  2025-03-31  22:50:47  \n",
       "291344  2025-03-31  22:56:46  \n",
       "291346  2025-03-31  23:15:50  \n",
       "\n",
       "[13987 rows x 6 columns]"
      ]
     },
     "execution_count": 81,
     "metadata": {},
     "output_type": "execute_result"
    }
   ],
   "source": [
    "review_filter = review_filter[review_filter[\"rating\"] >= 4.8]\n",
    "review_filter"
   ]
  },
  {
   "cell_type": "markdown",
   "id": "fed892ac",
   "metadata": {},
   "source": [
    "#### **5. Have Service Quality Problem < 3 %**"
   ]
  },
  {
   "cell_type": "markdown",
   "id": "de078687",
   "metadata": {},
   "source": [
    "Filter review_filter for professional_ids that have < 3% of complaints (from quality_filter), relative to their total reviews"
   ]
  },
  {
   "cell_type": "code",
   "execution_count": 89,
   "id": "114f9a43",
   "metadata": {},
   "outputs": [
    {
     "data": {
      "text/html": [
       "<div>\n",
       "<style scoped>\n",
       "    .dataframe tbody tr th:only-of-type {\n",
       "        vertical-align: middle;\n",
       "    }\n",
       "\n",
       "    .dataframe tbody tr th {\n",
       "        vertical-align: top;\n",
       "    }\n",
       "\n",
       "    .dataframe thead th {\n",
       "        text-align: right;\n",
       "    }\n",
       "</style>\n",
       "<table border=\"1\" class=\"dataframe\">\n",
       "  <thead>\n",
       "    <tr style=\"text-align: right;\">\n",
       "      <th></th>\n",
       "      <th>report_date</th>\n",
       "      <th>professional_id</th>\n",
       "      <th>report_problem_id</th>\n",
       "      <th>problem_name</th>\n",
       "      <th>active_date</th>\n",
       "      <th>time</th>\n",
       "    </tr>\n",
       "  </thead>\n",
       "  <tbody>\n",
       "    <tr>\n",
       "      <th>0</th>\n",
       "      <td>2025-01-02 15:59:00</td>\n",
       "      <td>9280</td>\n",
       "      <td>32218</td>\n",
       "      <td>เข้าให้บริการสาย</td>\n",
       "      <td>2025-01-02</td>\n",
       "      <td>15:59:00</td>\n",
       "    </tr>\n",
       "    <tr>\n",
       "      <th>1</th>\n",
       "      <td>2025-01-11 10:30:00</td>\n",
       "      <td>10555</td>\n",
       "      <td>32434</td>\n",
       "      <td>เข้าให้บริการสาย</td>\n",
       "      <td>2025-01-11</td>\n",
       "      <td>10:30:00</td>\n",
       "    </tr>\n",
       "    <tr>\n",
       "      <th>2</th>\n",
       "      <td>2025-01-13 17:22:00</td>\n",
       "      <td>11144</td>\n",
       "      <td>32504</td>\n",
       "      <td>เข้าให้บริการสาย</td>\n",
       "      <td>2025-01-13</td>\n",
       "      <td>17:22:00</td>\n",
       "    </tr>\n",
       "    <tr>\n",
       "      <th>3</th>\n",
       "      <td>2025-01-17 18:30:00</td>\n",
       "      <td>11760</td>\n",
       "      <td>32598</td>\n",
       "      <td>เข้าให้บริการสาย</td>\n",
       "      <td>2025-01-17</td>\n",
       "      <td>18:30:00</td>\n",
       "    </tr>\n",
       "    <tr>\n",
       "      <th>4</th>\n",
       "      <td>2025-01-18 10:21:00</td>\n",
       "      <td>11760</td>\n",
       "      <td>32606</td>\n",
       "      <td>เข้าให้บริการสาย</td>\n",
       "      <td>2025-01-18</td>\n",
       "      <td>10:21:00</td>\n",
       "    </tr>\n",
       "    <tr>\n",
       "      <th>...</th>\n",
       "      <td>...</td>\n",
       "      <td>...</td>\n",
       "      <td>...</td>\n",
       "      <td>...</td>\n",
       "      <td>...</td>\n",
       "      <td>...</td>\n",
       "    </tr>\n",
       "    <tr>\n",
       "      <th>897</th>\n",
       "      <td>2025-03-10 06:30:00</td>\n",
       "      <td>12187</td>\n",
       "      <td>33923</td>\n",
       "      <td>แอร์ไม่เย็น</td>\n",
       "      <td>2025-03-10</td>\n",
       "      <td>06:30:00</td>\n",
       "    </tr>\n",
       "    <tr>\n",
       "      <th>898</th>\n",
       "      <td>2025-03-10 06:37:00</td>\n",
       "      <td>12187</td>\n",
       "      <td>33931</td>\n",
       "      <td>แอร์ไม่เย็น</td>\n",
       "      <td>2025-03-10</td>\n",
       "      <td>06:37:00</td>\n",
       "    </tr>\n",
       "    <tr>\n",
       "      <th>899</th>\n",
       "      <td>2025-02-24 08:06:00</td>\n",
       "      <td>11997</td>\n",
       "      <td>33516</td>\n",
       "      <td>แอร์มีเสียงดัง</td>\n",
       "      <td>2025-02-24</td>\n",
       "      <td>08:06:00</td>\n",
       "    </tr>\n",
       "    <tr>\n",
       "      <th>900</th>\n",
       "      <td>2025-02-26 11:02:00</td>\n",
       "      <td>11997</td>\n",
       "      <td>33569</td>\n",
       "      <td>แอร์มีเสียงดัง</td>\n",
       "      <td>2025-02-26</td>\n",
       "      <td>11:02:00</td>\n",
       "    </tr>\n",
       "    <tr>\n",
       "      <th>901</th>\n",
       "      <td>2025-03-28 10:51:00</td>\n",
       "      <td>12153</td>\n",
       "      <td>34385</td>\n",
       "      <td>แอร์มีเสียงดัง</td>\n",
       "      <td>2025-03-28</td>\n",
       "      <td>10:51:00</td>\n",
       "    </tr>\n",
       "  </tbody>\n",
       "</table>\n",
       "<p>902 rows × 6 columns</p>\n",
       "</div>"
      ],
      "text/plain": [
       "             report_date  professional_id  report_problem_id  \\\n",
       "0    2025-01-02 15:59:00             9280              32218   \n",
       "1    2025-01-11 10:30:00            10555              32434   \n",
       "2    2025-01-13 17:22:00            11144              32504   \n",
       "3    2025-01-17 18:30:00            11760              32598   \n",
       "4    2025-01-18 10:21:00            11760              32606   \n",
       "..                   ...              ...                ...   \n",
       "897  2025-03-10 06:30:00            12187              33923   \n",
       "898  2025-03-10 06:37:00            12187              33931   \n",
       "899  2025-02-24 08:06:00            11997              33516   \n",
       "900  2025-02-26 11:02:00            11997              33569   \n",
       "901  2025-03-28 10:51:00            12153              34385   \n",
       "\n",
       "         problem_name active_date      time  \n",
       "0    เข้าให้บริการสาย  2025-01-02  15:59:00  \n",
       "1    เข้าให้บริการสาย  2025-01-11  10:30:00  \n",
       "2    เข้าให้บริการสาย  2025-01-13  17:22:00  \n",
       "3    เข้าให้บริการสาย  2025-01-17  18:30:00  \n",
       "4    เข้าให้บริการสาย  2025-01-18  10:21:00  \n",
       "..                ...         ...       ...  \n",
       "897      แอร์ไม่เย็น   2025-03-10  06:30:00  \n",
       "898      แอร์ไม่เย็น   2025-03-10  06:37:00  \n",
       "899   แอร์มีเสียงดัง   2025-02-24  08:06:00  \n",
       "900   แอร์มีเสียงดัง   2025-02-26  11:02:00  \n",
       "901   แอร์มีเสียงดัง   2025-03-28  10:51:00  \n",
       "\n",
       "[902 rows x 6 columns]"
      ]
     },
     "execution_count": 89,
     "metadata": {},
     "output_type": "execute_result"
    }
   ],
   "source": [
    "quality_filter"
   ]
  },
  {
   "cell_type": "code",
   "execution_count": 87,
   "id": "7357da95",
   "metadata": {},
   "outputs": [],
   "source": [
    "# Count reviews per professional\n",
    "review_counts = review_filter[\"professional_id\"].value_counts().rename(\"total_reviews\")\n",
    "\n",
    "# Count quality reports per professional\n",
    "quality_counts = quality_filter[\"professional_id\"].value_counts().rename(\"total_issue\")"
   ]
  },
  {
   "cell_type": "code",
   "execution_count": 88,
   "id": "f03b12bc",
   "metadata": {},
   "outputs": [
    {
     "data": {
      "text/html": [
       "<div>\n",
       "<style scoped>\n",
       "    .dataframe tbody tr th:only-of-type {\n",
       "        vertical-align: middle;\n",
       "    }\n",
       "\n",
       "    .dataframe tbody tr th {\n",
       "        vertical-align: top;\n",
       "    }\n",
       "\n",
       "    .dataframe thead th {\n",
       "        text-align: right;\n",
       "    }\n",
       "</style>\n",
       "<table border=\"1\" class=\"dataframe\">\n",
       "  <thead>\n",
       "    <tr style=\"text-align: right;\">\n",
       "      <th></th>\n",
       "      <th>booking_id</th>\n",
       "      <th>professional_id</th>\n",
       "      <th>rating</th>\n",
       "      <th>review_date</th>\n",
       "      <th>active_date</th>\n",
       "      <th>time</th>\n",
       "    </tr>\n",
       "  </thead>\n",
       "  <tbody>\n",
       "    <tr>\n",
       "      <th>273848</th>\n",
       "      <td>2412294F7S</td>\n",
       "      <td>5859</td>\n",
       "      <td>5.0</td>\n",
       "      <td>2025-01-01 01:15:17</td>\n",
       "      <td>2025-01-01</td>\n",
       "      <td>01:15:17</td>\n",
       "    </tr>\n",
       "    <tr>\n",
       "      <th>273853</th>\n",
       "      <td>2412288UMP</td>\n",
       "      <td>8581</td>\n",
       "      <td>5.0</td>\n",
       "      <td>2025-01-01 08:23:33</td>\n",
       "      <td>2025-01-01</td>\n",
       "      <td>08:23:33</td>\n",
       "    </tr>\n",
       "    <tr>\n",
       "      <th>273854</th>\n",
       "      <td>241202YSWA</td>\n",
       "      <td>6610</td>\n",
       "      <td>5.0</td>\n",
       "      <td>2025-01-01 08:53:58</td>\n",
       "      <td>2025-01-01</td>\n",
       "      <td>08:53:58</td>\n",
       "    </tr>\n",
       "    <tr>\n",
       "      <th>273856</th>\n",
       "      <td>24122983NR</td>\n",
       "      <td>239</td>\n",
       "      <td>5.0</td>\n",
       "      <td>2025-01-01 09:52:59</td>\n",
       "      <td>2025-01-01</td>\n",
       "      <td>09:52:59</td>\n",
       "    </tr>\n",
       "    <tr>\n",
       "      <th>273858</th>\n",
       "      <td>2412132WHP</td>\n",
       "      <td>2748</td>\n",
       "      <td>5.0</td>\n",
       "      <td>2025-01-01 11:02:30</td>\n",
       "      <td>2025-01-01</td>\n",
       "      <td>11:02:30</td>\n",
       "    </tr>\n",
       "    <tr>\n",
       "      <th>...</th>\n",
       "      <td>...</td>\n",
       "      <td>...</td>\n",
       "      <td>...</td>\n",
       "      <td>...</td>\n",
       "      <td>...</td>\n",
       "      <td>...</td>\n",
       "    </tr>\n",
       "    <tr>\n",
       "      <th>291336</th>\n",
       "      <td>2501216RKP</td>\n",
       "      <td>6768</td>\n",
       "      <td>5.0</td>\n",
       "      <td>2025-03-31 21:38:12</td>\n",
       "      <td>2025-03-31</td>\n",
       "      <td>21:38:12</td>\n",
       "    </tr>\n",
       "    <tr>\n",
       "      <th>291337</th>\n",
       "      <td>250330N123</td>\n",
       "      <td>10682</td>\n",
       "      <td>5.0</td>\n",
       "      <td>2025-03-31 21:52:17</td>\n",
       "      <td>2025-03-31</td>\n",
       "      <td>21:52:17</td>\n",
       "    </tr>\n",
       "    <tr>\n",
       "      <th>291340</th>\n",
       "      <td>2502276PNN</td>\n",
       "      <td>10111</td>\n",
       "      <td>5.0</td>\n",
       "      <td>2025-03-31 22:48:43</td>\n",
       "      <td>2025-03-31</td>\n",
       "      <td>22:48:43</td>\n",
       "    </tr>\n",
       "    <tr>\n",
       "      <th>291341</th>\n",
       "      <td>250310YMLY</td>\n",
       "      <td>5788</td>\n",
       "      <td>5.0</td>\n",
       "      <td>2025-03-31 22:49:05</td>\n",
       "      <td>2025-03-31</td>\n",
       "      <td>22:49:05</td>\n",
       "    </tr>\n",
       "    <tr>\n",
       "      <th>291346</th>\n",
       "      <td>250324QCLU</td>\n",
       "      <td>10216</td>\n",
       "      <td>5.0</td>\n",
       "      <td>2025-03-31 23:15:50</td>\n",
       "      <td>2025-03-31</td>\n",
       "      <td>23:15:50</td>\n",
       "    </tr>\n",
       "  </tbody>\n",
       "</table>\n",
       "<p>8083 rows × 6 columns</p>\n",
       "</div>"
      ],
      "text/plain": [
       "        booking_id  professional_id  rating          review_date active_date  \\\n",
       "273848  2412294F7S             5859     5.0  2025-01-01 01:15:17  2025-01-01   \n",
       "273853  2412288UMP             8581     5.0  2025-01-01 08:23:33  2025-01-01   \n",
       "273854  241202YSWA             6610     5.0  2025-01-01 08:53:58  2025-01-01   \n",
       "273856  24122983NR              239     5.0  2025-01-01 09:52:59  2025-01-01   \n",
       "273858  2412132WHP             2748     5.0  2025-01-01 11:02:30  2025-01-01   \n",
       "...            ...              ...     ...                  ...         ...   \n",
       "291336  2501216RKP             6768     5.0  2025-03-31 21:38:12  2025-03-31   \n",
       "291337  250330N123            10682     5.0  2025-03-31 21:52:17  2025-03-31   \n",
       "291340  2502276PNN            10111     5.0  2025-03-31 22:48:43  2025-03-31   \n",
       "291341  250310YMLY             5788     5.0  2025-03-31 22:49:05  2025-03-31   \n",
       "291346  250324QCLU            10216     5.0  2025-03-31 23:15:50  2025-03-31   \n",
       "\n",
       "            time  \n",
       "273848  01:15:17  \n",
       "273853  08:23:33  \n",
       "273854  08:53:58  \n",
       "273856  09:52:59  \n",
       "273858  11:02:30  \n",
       "...          ...  \n",
       "291336  21:38:12  \n",
       "291337  21:52:17  \n",
       "291340  22:48:43  \n",
       "291341  22:49:05  \n",
       "291346  23:15:50  \n",
       "\n",
       "[8083 rows x 6 columns]"
      ]
     },
     "execution_count": 88,
     "metadata": {},
     "output_type": "execute_result"
    }
   ],
   "source": [
    "# Combine counts\n",
    "combined = pd.concat([review_counts, quality_counts], axis=1).fillna(0)\n",
    "\n",
    "# Calculate complaint percentage (%)\n",
    "combined[\"complaint_pct\"] = (combined[\"total_issue\"] / combined[\"total_reviews\"]) * 100\n",
    "\n",
    "# Filter for < 3%\n",
    "low_complaint_ids = combined[combined[\"complaint_pct\"] < 3].index\n",
    "\n",
    "# Filter review_filter\n",
    "review_quality_filter = review_filter[review_filter[\"professional_id\"].isin(low_complaint_ids)]\n",
    "review_quality_filter"
   ]
  },
  {
   "cell_type": "markdown",
   "id": "c5ce816a",
   "metadata": {},
   "source": [
    "#### **6. Have Service Cancel Problem < 3 %**"
   ]
  },
  {
   "cell_type": "markdown",
   "id": "89944efa",
   "metadata": {},
   "source": [
    "Filter review_quality_filter to include only those professional_ids who have < 3% service cancel problems"
   ]
  },
  {
   "cell_type": "code",
   "execution_count": 91,
   "id": "347c0d05",
   "metadata": {},
   "outputs": [],
   "source": [
    "# Count number of reviews per professional from review_quality_filter\n",
    "review_counts = review_quality_filter[\"professional_id\"].value_counts().rename(\"total_reviews\")\n",
    "\n",
    "# Count number of cancels per professional\n",
    "cancel_counts = cancel_filter[\"professional_id\"].value_counts().rename(\"total_cancels\")"
   ]
  },
  {
   "cell_type": "code",
   "execution_count": 93,
   "id": "14aed0cd",
   "metadata": {},
   "outputs": [
    {
     "data": {
      "text/html": [
       "<div>\n",
       "<style scoped>\n",
       "    .dataframe tbody tr th:only-of-type {\n",
       "        vertical-align: middle;\n",
       "    }\n",
       "\n",
       "    .dataframe tbody tr th {\n",
       "        vertical-align: top;\n",
       "    }\n",
       "\n",
       "    .dataframe thead th {\n",
       "        text-align: right;\n",
       "    }\n",
       "</style>\n",
       "<table border=\"1\" class=\"dataframe\">\n",
       "  <thead>\n",
       "    <tr style=\"text-align: right;\">\n",
       "      <th></th>\n",
       "      <th>booking_id</th>\n",
       "      <th>professional_id</th>\n",
       "      <th>rating</th>\n",
       "      <th>review_date</th>\n",
       "      <th>active_date</th>\n",
       "      <th>time</th>\n",
       "    </tr>\n",
       "  </thead>\n",
       "  <tbody>\n",
       "    <tr>\n",
       "      <th>273848</th>\n",
       "      <td>2412294F7S</td>\n",
       "      <td>5859</td>\n",
       "      <td>5.0</td>\n",
       "      <td>2025-01-01 01:15:17</td>\n",
       "      <td>2025-01-01</td>\n",
       "      <td>01:15:17</td>\n",
       "    </tr>\n",
       "    <tr>\n",
       "      <th>273854</th>\n",
       "      <td>241202YSWA</td>\n",
       "      <td>6610</td>\n",
       "      <td>5.0</td>\n",
       "      <td>2025-01-01 08:53:58</td>\n",
       "      <td>2025-01-01</td>\n",
       "      <td>08:53:58</td>\n",
       "    </tr>\n",
       "    <tr>\n",
       "      <th>273856</th>\n",
       "      <td>24122983NR</td>\n",
       "      <td>239</td>\n",
       "      <td>5.0</td>\n",
       "      <td>2025-01-01 09:52:59</td>\n",
       "      <td>2025-01-01</td>\n",
       "      <td>09:52:59</td>\n",
       "    </tr>\n",
       "    <tr>\n",
       "      <th>273858</th>\n",
       "      <td>2412132WHP</td>\n",
       "      <td>2748</td>\n",
       "      <td>5.0</td>\n",
       "      <td>2025-01-01 11:02:30</td>\n",
       "      <td>2025-01-01</td>\n",
       "      <td>11:02:30</td>\n",
       "    </tr>\n",
       "    <tr>\n",
       "      <th>273860</th>\n",
       "      <td>241206TMPE672</td>\n",
       "      <td>4704</td>\n",
       "      <td>5.0</td>\n",
       "      <td>2025-01-01 11:03:07</td>\n",
       "      <td>2025-01-01</td>\n",
       "      <td>11:03:07</td>\n",
       "    </tr>\n",
       "    <tr>\n",
       "      <th>...</th>\n",
       "      <td>...</td>\n",
       "      <td>...</td>\n",
       "      <td>...</td>\n",
       "      <td>...</td>\n",
       "      <td>...</td>\n",
       "      <td>...</td>\n",
       "    </tr>\n",
       "    <tr>\n",
       "      <th>291333</th>\n",
       "      <td>250330T8CL</td>\n",
       "      <td>9600</td>\n",
       "      <td>5.0</td>\n",
       "      <td>2025-03-31 21:15:33</td>\n",
       "      <td>2025-03-31</td>\n",
       "      <td>21:15:33</td>\n",
       "    </tr>\n",
       "    <tr>\n",
       "      <th>291336</th>\n",
       "      <td>2501216RKP</td>\n",
       "      <td>6768</td>\n",
       "      <td>5.0</td>\n",
       "      <td>2025-03-31 21:38:12</td>\n",
       "      <td>2025-03-31</td>\n",
       "      <td>21:38:12</td>\n",
       "    </tr>\n",
       "    <tr>\n",
       "      <th>291337</th>\n",
       "      <td>250330N123</td>\n",
       "      <td>10682</td>\n",
       "      <td>5.0</td>\n",
       "      <td>2025-03-31 21:52:17</td>\n",
       "      <td>2025-03-31</td>\n",
       "      <td>21:52:17</td>\n",
       "    </tr>\n",
       "    <tr>\n",
       "      <th>291340</th>\n",
       "      <td>2502276PNN</td>\n",
       "      <td>10111</td>\n",
       "      <td>5.0</td>\n",
       "      <td>2025-03-31 22:48:43</td>\n",
       "      <td>2025-03-31</td>\n",
       "      <td>22:48:43</td>\n",
       "    </tr>\n",
       "    <tr>\n",
       "      <th>291341</th>\n",
       "      <td>250310YMLY</td>\n",
       "      <td>5788</td>\n",
       "      <td>5.0</td>\n",
       "      <td>2025-03-31 22:49:05</td>\n",
       "      <td>2025-03-31</td>\n",
       "      <td>22:49:05</td>\n",
       "    </tr>\n",
       "  </tbody>\n",
       "</table>\n",
       "<p>5532 rows × 6 columns</p>\n",
       "</div>"
      ],
      "text/plain": [
       "           booking_id  professional_id  rating          review_date  \\\n",
       "273848     2412294F7S             5859     5.0  2025-01-01 01:15:17   \n",
       "273854     241202YSWA             6610     5.0  2025-01-01 08:53:58   \n",
       "273856     24122983NR              239     5.0  2025-01-01 09:52:59   \n",
       "273858     2412132WHP             2748     5.0  2025-01-01 11:02:30   \n",
       "273860  241206TMPE672             4704     5.0  2025-01-01 11:03:07   \n",
       "...               ...              ...     ...                  ...   \n",
       "291333     250330T8CL             9600     5.0  2025-03-31 21:15:33   \n",
       "291336     2501216RKP             6768     5.0  2025-03-31 21:38:12   \n",
       "291337     250330N123            10682     5.0  2025-03-31 21:52:17   \n",
       "291340     2502276PNN            10111     5.0  2025-03-31 22:48:43   \n",
       "291341     250310YMLY             5788     5.0  2025-03-31 22:49:05   \n",
       "\n",
       "       active_date      time  \n",
       "273848  2025-01-01  01:15:17  \n",
       "273854  2025-01-01  08:53:58  \n",
       "273856  2025-01-01  09:52:59  \n",
       "273858  2025-01-01  11:02:30  \n",
       "273860  2025-01-01  11:03:07  \n",
       "...            ...       ...  \n",
       "291333  2025-03-31  21:15:33  \n",
       "291336  2025-03-31  21:38:12  \n",
       "291337  2025-03-31  21:52:17  \n",
       "291340  2025-03-31  22:48:43  \n",
       "291341  2025-03-31  22:49:05  \n",
       "\n",
       "[5532 rows x 6 columns]"
      ]
     },
     "execution_count": 93,
     "metadata": {},
     "output_type": "execute_result"
    }
   ],
   "source": [
    "# Combine counts\n",
    "combined_cancel = pd.concat([review_counts, cancel_counts], axis=1).fillna(0)\n",
    "\n",
    "# Calculate cancel rate\n",
    "combined_cancel[\"cancel_pct\"] = (combined_cancel[\"total_cancels\"] / combined_cancel[\"total_reviews\"]) * 100\n",
    "\n",
    "# FIlter for < 3% cancels\n",
    "low_cancel_ids = combined_cancel[combined_cancel[\"cancel_pct\"] < 3].index\n",
    "\n",
    "# Filter review_quality_filter\n",
    "review_cancel_filter = review_quality_filter[review_quality_filter[\"professional_id\"].isin(low_cancel_ids)]\n",
    "review_cancel_filter"
   ]
  },
  {
   "cell_type": "markdown",
   "id": "e015b9f4",
   "metadata": {},
   "source": [
    "#### **7. Group remaining professional_id by Work Accept ≥ 24 months**"
   ]
  },
  {
   "cell_type": "code",
   "execution_count": 94,
   "id": "1a4779fb",
   "metadata": {},
   "outputs": [
    {
     "data": {
      "text/html": [
       "<div>\n",
       "<style scoped>\n",
       "    .dataframe tbody tr th:only-of-type {\n",
       "        vertical-align: middle;\n",
       "    }\n",
       "\n",
       "    .dataframe tbody tr th {\n",
       "        vertical-align: top;\n",
       "    }\n",
       "\n",
       "    .dataframe thead th {\n",
       "        text-align: right;\n",
       "    }\n",
       "</style>\n",
       "<table border=\"1\" class=\"dataframe\">\n",
       "  <thead>\n",
       "    <tr style=\"text-align: right;\">\n",
       "      <th></th>\n",
       "      <th>booking_id</th>\n",
       "      <th>professional_id</th>\n",
       "      <th>rating</th>\n",
       "      <th>review_date</th>\n",
       "      <th>active_date</th>\n",
       "      <th>time</th>\n",
       "    </tr>\n",
       "  </thead>\n",
       "  <tbody>\n",
       "    <tr>\n",
       "      <th>273848</th>\n",
       "      <td>2412294F7S</td>\n",
       "      <td>5859</td>\n",
       "      <td>5.0</td>\n",
       "      <td>2025-01-01 01:15:17</td>\n",
       "      <td>2025-01-01</td>\n",
       "      <td>01:15:17</td>\n",
       "    </tr>\n",
       "    <tr>\n",
       "      <th>273854</th>\n",
       "      <td>241202YSWA</td>\n",
       "      <td>6610</td>\n",
       "      <td>5.0</td>\n",
       "      <td>2025-01-01 08:53:58</td>\n",
       "      <td>2025-01-01</td>\n",
       "      <td>08:53:58</td>\n",
       "    </tr>\n",
       "    <tr>\n",
       "      <th>273856</th>\n",
       "      <td>24122983NR</td>\n",
       "      <td>239</td>\n",
       "      <td>5.0</td>\n",
       "      <td>2025-01-01 09:52:59</td>\n",
       "      <td>2025-01-01</td>\n",
       "      <td>09:52:59</td>\n",
       "    </tr>\n",
       "    <tr>\n",
       "      <th>273887</th>\n",
       "      <td>241231Q94S</td>\n",
       "      <td>238</td>\n",
       "      <td>5.0</td>\n",
       "      <td>2025-01-01 13:50:07</td>\n",
       "      <td>2025-01-01</td>\n",
       "      <td>13:50:07</td>\n",
       "    </tr>\n",
       "    <tr>\n",
       "      <th>273902</th>\n",
       "      <td>24123112G3</td>\n",
       "      <td>239</td>\n",
       "      <td>5.0</td>\n",
       "      <td>2025-01-01 15:22:16</td>\n",
       "      <td>2025-01-01</td>\n",
       "      <td>15:22:16</td>\n",
       "    </tr>\n",
       "    <tr>\n",
       "      <th>...</th>\n",
       "      <td>...</td>\n",
       "      <td>...</td>\n",
       "      <td>...</td>\n",
       "      <td>...</td>\n",
       "      <td>...</td>\n",
       "      <td>...</td>\n",
       "    </tr>\n",
       "    <tr>\n",
       "      <th>291322</th>\n",
       "      <td>240930TMPXN90</td>\n",
       "      <td>644</td>\n",
       "      <td>5.0</td>\n",
       "      <td>2025-03-31 20:36:16</td>\n",
       "      <td>2025-03-31</td>\n",
       "      <td>20:36:16</td>\n",
       "    </tr>\n",
       "    <tr>\n",
       "      <th>291325</th>\n",
       "      <td>250313PCRV</td>\n",
       "      <td>732</td>\n",
       "      <td>5.0</td>\n",
       "      <td>2025-03-31 20:52:43</td>\n",
       "      <td>2025-03-31</td>\n",
       "      <td>20:52:43</td>\n",
       "    </tr>\n",
       "    <tr>\n",
       "      <th>291331</th>\n",
       "      <td>2502104KN0</td>\n",
       "      <td>732</td>\n",
       "      <td>5.0</td>\n",
       "      <td>2025-03-31 21:08:27</td>\n",
       "      <td>2025-03-31</td>\n",
       "      <td>21:08:27</td>\n",
       "    </tr>\n",
       "    <tr>\n",
       "      <th>291336</th>\n",
       "      <td>2501216RKP</td>\n",
       "      <td>6768</td>\n",
       "      <td>5.0</td>\n",
       "      <td>2025-03-31 21:38:12</td>\n",
       "      <td>2025-03-31</td>\n",
       "      <td>21:38:12</td>\n",
       "    </tr>\n",
       "    <tr>\n",
       "      <th>291341</th>\n",
       "      <td>250310YMLY</td>\n",
       "      <td>5788</td>\n",
       "      <td>5.0</td>\n",
       "      <td>2025-03-31 22:49:05</td>\n",
       "      <td>2025-03-31</td>\n",
       "      <td>22:49:05</td>\n",
       "    </tr>\n",
       "  </tbody>\n",
       "</table>\n",
       "<p>1851 rows × 6 columns</p>\n",
       "</div>"
      ],
      "text/plain": [
       "           booking_id  professional_id  rating          review_date  \\\n",
       "273848     2412294F7S             5859     5.0  2025-01-01 01:15:17   \n",
       "273854     241202YSWA             6610     5.0  2025-01-01 08:53:58   \n",
       "273856     24122983NR              239     5.0  2025-01-01 09:52:59   \n",
       "273887     241231Q94S              238     5.0  2025-01-01 13:50:07   \n",
       "273902     24123112G3              239     5.0  2025-01-01 15:22:16   \n",
       "...               ...              ...     ...                  ...   \n",
       "291322  240930TMPXN90              644     5.0  2025-03-31 20:36:16   \n",
       "291325     250313PCRV              732     5.0  2025-03-31 20:52:43   \n",
       "291331     2502104KN0              732     5.0  2025-03-31 21:08:27   \n",
       "291336     2501216RKP             6768     5.0  2025-03-31 21:38:12   \n",
       "291341     250310YMLY             5788     5.0  2025-03-31 22:49:05   \n",
       "\n",
       "       active_date      time  \n",
       "273848  2025-01-01  01:15:17  \n",
       "273854  2025-01-01  08:53:58  \n",
       "273856  2025-01-01  09:52:59  \n",
       "273887  2025-01-01  13:50:07  \n",
       "273902  2025-01-01  15:22:16  \n",
       "...            ...       ...  \n",
       "291322  2025-03-31  20:36:16  \n",
       "291325  2025-03-31  20:52:43  \n",
       "291331  2025-03-31  21:08:27  \n",
       "291336  2025-03-31  21:38:12  \n",
       "291341  2025-03-31  22:49:05  \n",
       "\n",
       "[1851 rows x 6 columns]"
      ]
     },
     "execution_count": 94,
     "metadata": {},
     "output_type": "execute_result"
    }
   ],
   "source": [
    "loyal_professional = review_cancel_filter[review_cancel_filter[\"professional_id\"].isin(result[\"professional_id\"])]\n",
    "loyal_professional"
   ]
  },
  {
   "cell_type": "code",
   "execution_count": 98,
   "id": "551bba7c",
   "metadata": {},
   "outputs": [
    {
     "data": {
      "text/html": [
       "<div>\n",
       "<style scoped>\n",
       "    .dataframe tbody tr th:only-of-type {\n",
       "        vertical-align: middle;\n",
       "    }\n",
       "\n",
       "    .dataframe tbody tr th {\n",
       "        vertical-align: top;\n",
       "    }\n",
       "\n",
       "    .dataframe thead th {\n",
       "        text-align: right;\n",
       "    }\n",
       "</style>\n",
       "<table border=\"1\" class=\"dataframe\">\n",
       "  <thead>\n",
       "    <tr style=\"text-align: right;\">\n",
       "      <th></th>\n",
       "      <th>professional_id</th>\n",
       "      <th>booking_id</th>\n",
       "      <th>rating</th>\n",
       "      <th>review_date</th>\n",
       "      <th>active_date</th>\n",
       "      <th>time</th>\n",
       "    </tr>\n",
       "  </thead>\n",
       "  <tbody>\n",
       "    <tr>\n",
       "      <th>0</th>\n",
       "      <td>21</td>\n",
       "      <td>241217HMAF</td>\n",
       "      <td>5.0</td>\n",
       "      <td>2025-01-06 01:33:33</td>\n",
       "      <td>2025-01-06</td>\n",
       "      <td>01:33:33</td>\n",
       "    </tr>\n",
       "    <tr>\n",
       "      <th>1</th>\n",
       "      <td>155</td>\n",
       "      <td>250217HNFP</td>\n",
       "      <td>5.0</td>\n",
       "      <td>2025-02-21 17:46:28</td>\n",
       "      <td>2025-02-21</td>\n",
       "      <td>17:46:28</td>\n",
       "    </tr>\n",
       "    <tr>\n",
       "      <th>2</th>\n",
       "      <td>203</td>\n",
       "      <td>240924TMP4RX5</td>\n",
       "      <td>5.0</td>\n",
       "      <td>2025-01-10 18:04:08</td>\n",
       "      <td>2025-01-10</td>\n",
       "      <td>18:04:08</td>\n",
       "    </tr>\n",
       "    <tr>\n",
       "      <th>3</th>\n",
       "      <td>233</td>\n",
       "      <td>2501076KZS</td>\n",
       "      <td>5.0</td>\n",
       "      <td>2025-01-12 18:35:16</td>\n",
       "      <td>2025-01-12</td>\n",
       "      <td>18:35:16</td>\n",
       "    </tr>\n",
       "    <tr>\n",
       "      <th>4</th>\n",
       "      <td>238</td>\n",
       "      <td>241231Q94S</td>\n",
       "      <td>5.0</td>\n",
       "      <td>2025-01-01 13:50:07</td>\n",
       "      <td>2025-01-01</td>\n",
       "      <td>13:50:07</td>\n",
       "    </tr>\n",
       "    <tr>\n",
       "      <th>...</th>\n",
       "      <td>...</td>\n",
       "      <td>...</td>\n",
       "      <td>...</td>\n",
       "      <td>...</td>\n",
       "      <td>...</td>\n",
       "      <td>...</td>\n",
       "    </tr>\n",
       "    <tr>\n",
       "      <th>164</th>\n",
       "      <td>7716</td>\n",
       "      <td>2502071GG3</td>\n",
       "      <td>5.0</td>\n",
       "      <td>2025-02-10 14:45:51</td>\n",
       "      <td>2025-02-10</td>\n",
       "      <td>14:45:51</td>\n",
       "    </tr>\n",
       "    <tr>\n",
       "      <th>165</th>\n",
       "      <td>7717</td>\n",
       "      <td>241227H7XG</td>\n",
       "      <td>5.0</td>\n",
       "      <td>2025-01-02 02:51:53</td>\n",
       "      <td>2025-01-02</td>\n",
       "      <td>02:51:53</td>\n",
       "    </tr>\n",
       "    <tr>\n",
       "      <th>166</th>\n",
       "      <td>7721</td>\n",
       "      <td>241104D0Z5</td>\n",
       "      <td>5.0</td>\n",
       "      <td>2025-01-04 15:26:15</td>\n",
       "      <td>2025-01-04</td>\n",
       "      <td>15:26:15</td>\n",
       "    </tr>\n",
       "    <tr>\n",
       "      <th>167</th>\n",
       "      <td>7773</td>\n",
       "      <td>241206U66X</td>\n",
       "      <td>5.0</td>\n",
       "      <td>2025-01-01 20:28:26</td>\n",
       "      <td>2025-01-01</td>\n",
       "      <td>20:28:26</td>\n",
       "    </tr>\n",
       "    <tr>\n",
       "      <th>168</th>\n",
       "      <td>7781</td>\n",
       "      <td>250206L0J8</td>\n",
       "      <td>5.0</td>\n",
       "      <td>2025-02-10 15:32:20</td>\n",
       "      <td>2025-02-10</td>\n",
       "      <td>15:32:20</td>\n",
       "    </tr>\n",
       "  </tbody>\n",
       "</table>\n",
       "<p>169 rows × 6 columns</p>\n",
       "</div>"
      ],
      "text/plain": [
       "     professional_id     booking_id  rating          review_date active_date  \\\n",
       "0                 21     241217HMAF     5.0  2025-01-06 01:33:33  2025-01-06   \n",
       "1                155     250217HNFP     5.0  2025-02-21 17:46:28  2025-02-21   \n",
       "2                203  240924TMP4RX5     5.0  2025-01-10 18:04:08  2025-01-10   \n",
       "3                233     2501076KZS     5.0  2025-01-12 18:35:16  2025-01-12   \n",
       "4                238     241231Q94S     5.0  2025-01-01 13:50:07  2025-01-01   \n",
       "..               ...            ...     ...                  ...         ...   \n",
       "164             7716     2502071GG3     5.0  2025-02-10 14:45:51  2025-02-10   \n",
       "165             7717     241227H7XG     5.0  2025-01-02 02:51:53  2025-01-02   \n",
       "166             7721     241104D0Z5     5.0  2025-01-04 15:26:15  2025-01-04   \n",
       "167             7773     241206U66X     5.0  2025-01-01 20:28:26  2025-01-01   \n",
       "168             7781     250206L0J8     5.0  2025-02-10 15:32:20  2025-02-10   \n",
       "\n",
       "         time  \n",
       "0    01:33:33  \n",
       "1    17:46:28  \n",
       "2    18:04:08  \n",
       "3    18:35:16  \n",
       "4    13:50:07  \n",
       "..        ...  \n",
       "164  14:45:51  \n",
       "165  02:51:53  \n",
       "166  15:26:15  \n",
       "167  20:28:26  \n",
       "168  15:32:20  \n",
       "\n",
       "[169 rows x 6 columns]"
      ]
     },
     "execution_count": 98,
     "metadata": {},
     "output_type": "execute_result"
    }
   ],
   "source": [
    "loyal_summary = loyal_professional.groupby(\"professional_id\").first().reset_index()\n",
    "loyal_summary"
   ]
  },
  {
   "cell_type": "markdown",
   "id": "18e73eea",
   "metadata": {},
   "source": [
    "##### Visualize Rewarded Profesionals"
   ]
  },
  {
   "cell_type": "code",
   "execution_count": 108,
   "id": "76183eec",
   "metadata": {},
   "outputs": [
    {
     "data": {
      "application/vnd.plotly.v1+json": {
       "config": {
        "plotlyServerURL": "https://plot.ly"
       },
       "data": [
        {
         "hovertemplate": "index=%{x}<br>Rating score=%{y}<extra></extra>",
         "legendgroup": "",
         "marker": {
          "color": "#636efa",
          "pattern": {
           "shape": ""
          }
         },
         "name": "",
         "orientation": "v",
         "showlegend": false,
         "textposition": "auto",
         "type": "bar",
         "x": {
          "bdata": "AAABAAIAAwAEAAUABgAHAAgACQAKAAsADAANAA4ADwAQABEAEgATABQAFQAWABcAGAAZABoAGwAcAB0AHgAfACAAIQAiACMAJAAlACYAJwAoACkAKgArACwALQAuAC8AMAAxADIAMwA0ADUANgA3ADgAOQA6ADsAPAA9AD4APwBAAEEAQgBDAEQARQBGAEcASABJAEoASwBMAE0ATgBPAFAAUQBSAFMAVABVAFYAVwBYAFkAWgBbAFwAXQBeAF8AYABhAGIAYwBkAGUAZgBnAGgAaQBqAGsAbABtAG4AbwBwAHEAcgBzAHQAdQB2AHcAeAB5AHoAewB8AH0AfgB/AIAAgQCCAIMAhACFAIYAhwCIAIkAigCLAIwAjQCOAI8AkACRAJIAkwCUAJUAlgCXAJgAmQCaAJsAnACdAJ4AnwCgAKEAogCjAKQApQCmAKcAqAA=",
          "dtype": "i2"
         },
         "xaxis": "x",
         "y": {
          "bdata": "AAAAAAAAFEAAAAAAAAAUQAAAAAAAABRAAAAAAAAAFEAAAAAAAAAUQAAAAAAAABRAAAAAAAAAFEAAAAAAAAAUQAAAAAAAABRAAAAAAAAAFEAAAAAAAAAUQAAAAAAAABRAAAAAAAAAFEAAAAAAAAAUQAAAAAAAABRAAAAAAAAAFEAAAAAAAAAUQAAAAAAAABRAAAAAAAAAFEAAAAAAAAAUQAAAAAAAABRAAAAAAAAAFEAAAAAAAAAUQAAAAAAAABRAAAAAAAAAFEAAAAAAAAAUQAAAAAAAABRAAAAAAAAAFEAAAAAAAAAUQAAAAAAAABRAAAAAAAAAFEAAAAAAAAAUQAAAAAAAABRAAAAAAAAAFEAAAAAAAAAUQAAAAAAAABRAAAAAAAAAFEAAAAAAAAAUQAAAAAAAABRAAAAAAAAAFEAAAAAAAAAUQAAAAAAAABRAAAAAAAAAFEAAAAAAAAAUQAAAAAAAABRAAAAAAAAAFEAAAAAAAAAUQAAAAAAAABRAAAAAAAAAFEAAAAAAAAAUQAAAAAAAABRAAAAAAAAAFEAAAAAAAAAUQAAAAAAAABRAAAAAAAAAFEAAAAAAAAAUQAAAAAAAABRAAAAAAAAAFEAAAAAAAAAUQAAAAAAAABRAAAAAAAAAFEAAAAAAAAAUQAAAAAAAABRAAAAAAAAAFEAAAAAAAAAUQAAAAAAAABRAAAAAAAAAFEAAAAAAAAAUQAAAAAAAABRAAAAAAAAAFEAAAAAAAAAUQAAAAAAAABRAAAAAAAAAFEAAAAAAAAAUQAAAAAAAABRAAAAAAAAAFEAAAAAAAAAUQAAAAAAAABRAAAAAAAAAFEAAAAAAAAAUQAAAAAAAABRAAAAAAAAAFEAAAAAAAAAUQAAAAAAAABRAAAAAAAAAFEAAAAAAAAAUQAAAAAAAABRAAAAAAAAAFEAAAAAAAAAUQAAAAAAAABRAAAAAAAAAFEAAAAAAAAAUQAAAAAAAABRAAAAAAAAAFEAAAAAAAAAUQAAAAAAAABRAAAAAAAAAFEAAAAAAAAAUQAAAAAAAABRAAAAAAAAAFEAAAAAAAAAUQAAAAAAAABRAAAAAAAAAFEAAAAAAAAAUQAAAAAAAABRAAAAAAAAAFEAAAAAAAAAUQAAAAAAAABRAAAAAAAAAFEAAAAAAAAAUQAAAAAAAABRAAAAAAAAAFEAAAAAAAAAUQAAAAAAAABRAAAAAAAAAFEAAAAAAAAAUQAAAAAAAABRAAAAAAAAAFEAAAAAAAAAUQAAAAAAAABRAAAAAAAAAFEAAAAAAAAAUQAAAAAAAABRAAAAAAAAAFEAAAAAAAAAUQAAAAAAAABRAAAAAAAAAFEAAAAAAAAAUQAAAAAAAABRAAAAAAAAAFEAAAAAAAAAUQAAAAAAAABRAAAAAAAAAFEAAAAAAAAAUQAAAAAAAABRAAAAAAAAAFEAAAAAAAAAUQAAAAAAAABRAAAAAAAAAFEAAAAAAAAAUQAAAAAAAABRAAAAAAAAAFEAAAAAAAAAUQAAAAAAAABRAAAAAAAAAFEAAAAAAAAAUQAAAAAAAABRAAAAAAAAAFEAAAAAAAAAUQAAAAAAAABRAAAAAAAAAFEAAAAAAAAAUQAAAAAAAABRAAAAAAAAAFEAAAAAAAAAUQAAAAAAAABRAAAAAAAAAFEAAAAAAAAAUQAAAAAAAABRAAAAAAAAAFEAAAAAAAAAUQAAAAAAAABRAAAAAAAAAFEAAAAAAAAAUQAAAAAAAABRAAAAAAAAAFEAAAAAAAAAUQAAAAAAAABRAAAAAAAAAFEA=",
          "dtype": "f8"
         },
         "yaxis": "y"
        }
       ],
       "layout": {
        "barmode": "relative",
        "legend": {
         "tracegroupgap": 0
        },
        "template": {
         "data": {
          "bar": [
           {
            "error_x": {
             "color": "#2a3f5f"
            },
            "error_y": {
             "color": "#2a3f5f"
            },
            "marker": {
             "line": {
              "color": "#E5ECF6",
              "width": 0.5
             },
             "pattern": {
              "fillmode": "overlay",
              "size": 10,
              "solidity": 0.2
             }
            },
            "type": "bar"
           }
          ],
          "barpolar": [
           {
            "marker": {
             "line": {
              "color": "#E5ECF6",
              "width": 0.5
             },
             "pattern": {
              "fillmode": "overlay",
              "size": 10,
              "solidity": 0.2
             }
            },
            "type": "barpolar"
           }
          ],
          "carpet": [
           {
            "aaxis": {
             "endlinecolor": "#2a3f5f",
             "gridcolor": "white",
             "linecolor": "white",
             "minorgridcolor": "white",
             "startlinecolor": "#2a3f5f"
            },
            "baxis": {
             "endlinecolor": "#2a3f5f",
             "gridcolor": "white",
             "linecolor": "white",
             "minorgridcolor": "white",
             "startlinecolor": "#2a3f5f"
            },
            "type": "carpet"
           }
          ],
          "choropleth": [
           {
            "colorbar": {
             "outlinewidth": 0,
             "ticks": ""
            },
            "type": "choropleth"
           }
          ],
          "contour": [
           {
            "colorbar": {
             "outlinewidth": 0,
             "ticks": ""
            },
            "colorscale": [
             [
              0,
              "#0d0887"
             ],
             [
              0.1111111111111111,
              "#46039f"
             ],
             [
              0.2222222222222222,
              "#7201a8"
             ],
             [
              0.3333333333333333,
              "#9c179e"
             ],
             [
              0.4444444444444444,
              "#bd3786"
             ],
             [
              0.5555555555555556,
              "#d8576b"
             ],
             [
              0.6666666666666666,
              "#ed7953"
             ],
             [
              0.7777777777777778,
              "#fb9f3a"
             ],
             [
              0.8888888888888888,
              "#fdca26"
             ],
             [
              1,
              "#f0f921"
             ]
            ],
            "type": "contour"
           }
          ],
          "contourcarpet": [
           {
            "colorbar": {
             "outlinewidth": 0,
             "ticks": ""
            },
            "type": "contourcarpet"
           }
          ],
          "heatmap": [
           {
            "colorbar": {
             "outlinewidth": 0,
             "ticks": ""
            },
            "colorscale": [
             [
              0,
              "#0d0887"
             ],
             [
              0.1111111111111111,
              "#46039f"
             ],
             [
              0.2222222222222222,
              "#7201a8"
             ],
             [
              0.3333333333333333,
              "#9c179e"
             ],
             [
              0.4444444444444444,
              "#bd3786"
             ],
             [
              0.5555555555555556,
              "#d8576b"
             ],
             [
              0.6666666666666666,
              "#ed7953"
             ],
             [
              0.7777777777777778,
              "#fb9f3a"
             ],
             [
              0.8888888888888888,
              "#fdca26"
             ],
             [
              1,
              "#f0f921"
             ]
            ],
            "type": "heatmap"
           }
          ],
          "histogram": [
           {
            "marker": {
             "pattern": {
              "fillmode": "overlay",
              "size": 10,
              "solidity": 0.2
             }
            },
            "type": "histogram"
           }
          ],
          "histogram2d": [
           {
            "colorbar": {
             "outlinewidth": 0,
             "ticks": ""
            },
            "colorscale": [
             [
              0,
              "#0d0887"
             ],
             [
              0.1111111111111111,
              "#46039f"
             ],
             [
              0.2222222222222222,
              "#7201a8"
             ],
             [
              0.3333333333333333,
              "#9c179e"
             ],
             [
              0.4444444444444444,
              "#bd3786"
             ],
             [
              0.5555555555555556,
              "#d8576b"
             ],
             [
              0.6666666666666666,
              "#ed7953"
             ],
             [
              0.7777777777777778,
              "#fb9f3a"
             ],
             [
              0.8888888888888888,
              "#fdca26"
             ],
             [
              1,
              "#f0f921"
             ]
            ],
            "type": "histogram2d"
           }
          ],
          "histogram2dcontour": [
           {
            "colorbar": {
             "outlinewidth": 0,
             "ticks": ""
            },
            "colorscale": [
             [
              0,
              "#0d0887"
             ],
             [
              0.1111111111111111,
              "#46039f"
             ],
             [
              0.2222222222222222,
              "#7201a8"
             ],
             [
              0.3333333333333333,
              "#9c179e"
             ],
             [
              0.4444444444444444,
              "#bd3786"
             ],
             [
              0.5555555555555556,
              "#d8576b"
             ],
             [
              0.6666666666666666,
              "#ed7953"
             ],
             [
              0.7777777777777778,
              "#fb9f3a"
             ],
             [
              0.8888888888888888,
              "#fdca26"
             ],
             [
              1,
              "#f0f921"
             ]
            ],
            "type": "histogram2dcontour"
           }
          ],
          "mesh3d": [
           {
            "colorbar": {
             "outlinewidth": 0,
             "ticks": ""
            },
            "type": "mesh3d"
           }
          ],
          "parcoords": [
           {
            "line": {
             "colorbar": {
              "outlinewidth": 0,
              "ticks": ""
             }
            },
            "type": "parcoords"
           }
          ],
          "pie": [
           {
            "automargin": true,
            "type": "pie"
           }
          ],
          "scatter": [
           {
            "fillpattern": {
             "fillmode": "overlay",
             "size": 10,
             "solidity": 0.2
            },
            "type": "scatter"
           }
          ],
          "scatter3d": [
           {
            "line": {
             "colorbar": {
              "outlinewidth": 0,
              "ticks": ""
             }
            },
            "marker": {
             "colorbar": {
              "outlinewidth": 0,
              "ticks": ""
             }
            },
            "type": "scatter3d"
           }
          ],
          "scattercarpet": [
           {
            "marker": {
             "colorbar": {
              "outlinewidth": 0,
              "ticks": ""
             }
            },
            "type": "scattercarpet"
           }
          ],
          "scattergeo": [
           {
            "marker": {
             "colorbar": {
              "outlinewidth": 0,
              "ticks": ""
             }
            },
            "type": "scattergeo"
           }
          ],
          "scattergl": [
           {
            "marker": {
             "colorbar": {
              "outlinewidth": 0,
              "ticks": ""
             }
            },
            "type": "scattergl"
           }
          ],
          "scattermap": [
           {
            "marker": {
             "colorbar": {
              "outlinewidth": 0,
              "ticks": ""
             }
            },
            "type": "scattermap"
           }
          ],
          "scattermapbox": [
           {
            "marker": {
             "colorbar": {
              "outlinewidth": 0,
              "ticks": ""
             }
            },
            "type": "scattermapbox"
           }
          ],
          "scatterpolar": [
           {
            "marker": {
             "colorbar": {
              "outlinewidth": 0,
              "ticks": ""
             }
            },
            "type": "scatterpolar"
           }
          ],
          "scatterpolargl": [
           {
            "marker": {
             "colorbar": {
              "outlinewidth": 0,
              "ticks": ""
             }
            },
            "type": "scatterpolargl"
           }
          ],
          "scatterternary": [
           {
            "marker": {
             "colorbar": {
              "outlinewidth": 0,
              "ticks": ""
             }
            },
            "type": "scatterternary"
           }
          ],
          "surface": [
           {
            "colorbar": {
             "outlinewidth": 0,
             "ticks": ""
            },
            "colorscale": [
             [
              0,
              "#0d0887"
             ],
             [
              0.1111111111111111,
              "#46039f"
             ],
             [
              0.2222222222222222,
              "#7201a8"
             ],
             [
              0.3333333333333333,
              "#9c179e"
             ],
             [
              0.4444444444444444,
              "#bd3786"
             ],
             [
              0.5555555555555556,
              "#d8576b"
             ],
             [
              0.6666666666666666,
              "#ed7953"
             ],
             [
              0.7777777777777778,
              "#fb9f3a"
             ],
             [
              0.8888888888888888,
              "#fdca26"
             ],
             [
              1,
              "#f0f921"
             ]
            ],
            "type": "surface"
           }
          ],
          "table": [
           {
            "cells": {
             "fill": {
              "color": "#EBF0F8"
             },
             "line": {
              "color": "white"
             }
            },
            "header": {
             "fill": {
              "color": "#C8D4E3"
             },
             "line": {
              "color": "white"
             }
            },
            "type": "table"
           }
          ]
         },
         "layout": {
          "annotationdefaults": {
           "arrowcolor": "#2a3f5f",
           "arrowhead": 0,
           "arrowwidth": 1
          },
          "autotypenumbers": "strict",
          "coloraxis": {
           "colorbar": {
            "outlinewidth": 0,
            "ticks": ""
           }
          },
          "colorscale": {
           "diverging": [
            [
             0,
             "#8e0152"
            ],
            [
             0.1,
             "#c51b7d"
            ],
            [
             0.2,
             "#de77ae"
            ],
            [
             0.3,
             "#f1b6da"
            ],
            [
             0.4,
             "#fde0ef"
            ],
            [
             0.5,
             "#f7f7f7"
            ],
            [
             0.6,
             "#e6f5d0"
            ],
            [
             0.7,
             "#b8e186"
            ],
            [
             0.8,
             "#7fbc41"
            ],
            [
             0.9,
             "#4d9221"
            ],
            [
             1,
             "#276419"
            ]
           ],
           "sequential": [
            [
             0,
             "#0d0887"
            ],
            [
             0.1111111111111111,
             "#46039f"
            ],
            [
             0.2222222222222222,
             "#7201a8"
            ],
            [
             0.3333333333333333,
             "#9c179e"
            ],
            [
             0.4444444444444444,
             "#bd3786"
            ],
            [
             0.5555555555555556,
             "#d8576b"
            ],
            [
             0.6666666666666666,
             "#ed7953"
            ],
            [
             0.7777777777777778,
             "#fb9f3a"
            ],
            [
             0.8888888888888888,
             "#fdca26"
            ],
            [
             1,
             "#f0f921"
            ]
           ],
           "sequentialminus": [
            [
             0,
             "#0d0887"
            ],
            [
             0.1111111111111111,
             "#46039f"
            ],
            [
             0.2222222222222222,
             "#7201a8"
            ],
            [
             0.3333333333333333,
             "#9c179e"
            ],
            [
             0.4444444444444444,
             "#bd3786"
            ],
            [
             0.5555555555555556,
             "#d8576b"
            ],
            [
             0.6666666666666666,
             "#ed7953"
            ],
            [
             0.7777777777777778,
             "#fb9f3a"
            ],
            [
             0.8888888888888888,
             "#fdca26"
            ],
            [
             1,
             "#f0f921"
            ]
           ]
          },
          "colorway": [
           "#636efa",
           "#EF553B",
           "#00cc96",
           "#ab63fa",
           "#FFA15A",
           "#19d3f3",
           "#FF6692",
           "#B6E880",
           "#FF97FF",
           "#FECB52"
          ],
          "font": {
           "color": "#2a3f5f"
          },
          "geo": {
           "bgcolor": "white",
           "lakecolor": "white",
           "landcolor": "#E5ECF6",
           "showlakes": true,
           "showland": true,
           "subunitcolor": "white"
          },
          "hoverlabel": {
           "align": "left"
          },
          "hovermode": "closest",
          "mapbox": {
           "style": "light"
          },
          "paper_bgcolor": "white",
          "plot_bgcolor": "#E5ECF6",
          "polar": {
           "angularaxis": {
            "gridcolor": "white",
            "linecolor": "white",
            "ticks": ""
           },
           "bgcolor": "#E5ECF6",
           "radialaxis": {
            "gridcolor": "white",
            "linecolor": "white",
            "ticks": ""
           }
          },
          "scene": {
           "xaxis": {
            "backgroundcolor": "#E5ECF6",
            "gridcolor": "white",
            "gridwidth": 2,
            "linecolor": "white",
            "showbackground": true,
            "ticks": "",
            "zerolinecolor": "white"
           },
           "yaxis": {
            "backgroundcolor": "#E5ECF6",
            "gridcolor": "white",
            "gridwidth": 2,
            "linecolor": "white",
            "showbackground": true,
            "ticks": "",
            "zerolinecolor": "white"
           },
           "zaxis": {
            "backgroundcolor": "#E5ECF6",
            "gridcolor": "white",
            "gridwidth": 2,
            "linecolor": "white",
            "showbackground": true,
            "ticks": "",
            "zerolinecolor": "white"
           }
          },
          "shapedefaults": {
           "line": {
            "color": "#2a3f5f"
           }
          },
          "ternary": {
           "aaxis": {
            "gridcolor": "white",
            "linecolor": "white",
            "ticks": ""
           },
           "baxis": {
            "gridcolor": "white",
            "linecolor": "white",
            "ticks": ""
           },
           "bgcolor": "#E5ECF6",
           "caxis": {
            "gridcolor": "white",
            "linecolor": "white",
            "ticks": ""
           }
          },
          "title": {
           "x": 0.05
          },
          "xaxis": {
           "automargin": true,
           "gridcolor": "white",
           "linecolor": "white",
           "ticks": "",
           "title": {
            "standoff": 15
           },
           "zerolinecolor": "white",
           "zerolinewidth": 2
          },
          "yaxis": {
           "automargin": true,
           "gridcolor": "white",
           "linecolor": "white",
           "ticks": "",
           "title": {
            "standoff": 15
           },
           "zerolinecolor": "white",
           "zerolinewidth": 2
          }
         }
        },
        "title": {
         "text": "Rating per Professional"
        },
        "xaxis": {
         "anchor": "y",
         "domain": [
          0,
          1
         ],
         "tickangle": -45,
         "title": {
          "text": "index"
         }
        },
        "yaxis": {
         "anchor": "x",
         "domain": [
          0,
          1
         ],
         "title": {
          "text": "Rating score"
         }
        }
       }
      }
     },
     "metadata": {},
     "output_type": "display_data"
    }
   ],
   "source": [
    "import plotly.express as px\n",
    "\n",
    "# Plot graph\n",
    "fig = px.bar(\n",
    "    loyal_summary,\n",
    "    y=\"rating\",\n",
    "    title=\"Rating per Professional\",\n",
    "    labels={\"rating\": \"Rating score\"}\n",
    ")\n",
    "\n",
    "fig.update_layout(xaxis_tickangle=-45) # Rotate label for readablity\n",
    "fig.show()"
   ]
  },
  {
   "cell_type": "markdown",
   "id": "6cd8a866",
   "metadata": {},
   "source": [
    "#### **8. Other Data Insights**"
   ]
  },
  {
   "cell_type": "markdown",
   "id": "3537df8b",
   "metadata": {},
   "source": [
    "We'll continue our analysis in Power BI"
   ]
  }
 ],
 "metadata": {
  "kernelspec": {
   "display_name": "venv",
   "language": "python",
   "name": "python3"
  },
  "language_info": {
   "codemirror_mode": {
    "name": "ipython",
    "version": 3
   },
   "file_extension": ".py",
   "mimetype": "text/x-python",
   "name": "python",
   "nbconvert_exporter": "python",
   "pygments_lexer": "ipython3",
   "version": "3.13.3"
  }
 },
 "nbformat": 4,
 "nbformat_minor": 5
}
